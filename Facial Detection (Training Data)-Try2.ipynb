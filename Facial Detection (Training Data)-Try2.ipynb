{
 "cells": [
  {
   "cell_type": "markdown",
   "metadata": {},
   "source": [
    "This code is to perform facial detection on the training data"
   ]
  },
  {
   "cell_type": "markdown",
   "metadata": {},
   "source": [
    "### Import Modules"
   ]
  },
  {
   "cell_type": "code",
   "execution_count": 1,
   "metadata": {},
   "outputs": [],
   "source": [
    "import numpy as np\n",
    "import time\n",
    "import cv2\n",
    "import os\n",
    "import matplotlib.pyplot as plt\n",
    "from PIL import Image"
   ]
  },
  {
   "cell_type": "markdown",
   "metadata": {},
   "source": [
    "### Define File Paths"
   ]
  },
  {
   "cell_type": "code",
   "execution_count": 2,
   "metadata": {},
   "outputs": [],
   "source": [
    "# i think r is raw, f is format (for string file paths)\n",
    "INPUT_FOLDER = r'D:\\GABY\\UPH\\TA2\\Code2\\folder-training'\n",
    "OUTPUT_FOLDER = r'D:\\GABY\\UPH\\TA2\\Code2\\face-detection-result'\n",
    "OUTPUT_FOLDER_CLEAN = r'D:\\GABY\\UPH\\TA2\\Code2\\face-detection-result-clean'\n",
    "LABELS_FILE=r'C:\\Users\\asus\\Darknet\\darknet-master\\data\\obj.names'\n",
    "CONFIG_FILE=r'C:\\Users\\asus\\Darknet\\darknet-master\\cfg\\yolov3-custom2.cfg'\n",
    "WEIGHTS_FILE=r'C:\\Users\\asus\\Darknet\\darknet-master\\backup\\yolov3-custom2_last.weights'"
   ]
  },
  {
   "cell_type": "markdown",
   "metadata": {},
   "source": [
    "### Initialize YOLO"
   ]
  },
  {
   "cell_type": "code",
   "execution_count": 3,
   "metadata": {},
   "outputs": [
    {
     "name": "stdout",
     "output_type": "stream",
     "text": [
      "[INFO] YOLO took 0.015113 seconds\n"
     ]
    }
   ],
   "source": [
    "#try modify this?\n",
    "CONFIDENCE_THRESHOLD=0.05\n",
    "\n",
    "LABELS = open(LABELS_FILE).read().strip().split(\"\\n\")\n",
    "\n",
    "net = cv2.dnn.readNetFromDarknet(CONFIG_FILE, WEIGHTS_FILE)\n",
    "\n",
    "\n",
    "# determine only the *output* layer names that we need from YOLO\n",
    "ln = net.getLayerNames()\n",
    "ln = [ln[i[0] - 1] for i in net.getUnconnectedOutLayers()]\n",
    "\n",
    "start = time.time()\n",
    "end = time.time()\n",
    "\n",
    "\n",
    "print(\"[INFO] YOLO took {:.6f} seconds\".format(end - start))"
   ]
  },
  {
   "cell_type": "code",
   "execution_count": 6,
   "metadata": {},
   "outputs": [
    {
     "data": {
      "text/plain": [
       "276"
      ]
     },
     "execution_count": 6,
     "metadata": {},
     "output_type": "execute_result"
    }
   ],
   "source": [
    "#find number of images in file\n",
    "list = os.listdir(INPUT_FOLDER) # dir is your directory path\n",
    "number_files = len(list)\n",
    "number_files"
   ]
  },
  {
   "cell_type": "markdown",
   "metadata": {},
   "source": [
    "### Detection"
   ]
  },
  {
   "cell_type": "code",
   "execution_count": 14,
   "metadata": {},
   "outputs": [],
   "source": [
    "num_res = 0\n",
    "for iteration in range(number_files):\n",
    "    \n",
    "    image = cv2.imread(f'{INPUT_FOLDER}/picture ({str(iteration+1)}).JPG')\n",
    "    (H, W) = image.shape[:2]\n",
    "    \n",
    "    blob = cv2.dnn.blobFromImage(image, 1 / 255.0, (416, 416),\n",
    "    swapRB=True, crop=False)\n",
    "    net.setInput(blob)\n",
    "    \n",
    "    layerOutputs = net.forward(ln)\n",
    "    \n",
    "    # initialize our lists of detected bounding boxes, confidences, and\n",
    "    # class IDs, respectively\n",
    "    boxes = []\n",
    "    confidences = []\n",
    "    classIDs = []\n",
    "    \n",
    "    # loop over each of the layer outputs\n",
    "    for output in layerOutputs:\n",
    "        # loop over each of the detections\n",
    "        for detection in output:\n",
    "            # extract the class ID and confidence (i.e., probability) of\n",
    "            # the current object detection\n",
    "            scores = detection[5:] #get class probability\n",
    "            classID = np.argmax(scores) #get index of max class probability\n",
    "            confidence = scores[classID]\n",
    "\n",
    "            # filter out weak predictions by ensuring the detected\n",
    "            # probability is greater than the minimum probability\n",
    "            if confidence > CONFIDENCE_THRESHOLD:\n",
    "                # scale the bounding box coordinates back relative to the\n",
    "                # size of the image, keeping in mind that YOLO actually\n",
    "                # returns the center (x, y)-coordinates of the bounding\n",
    "                # box followed by the boxes' width and height\n",
    "                box = detection[0:4] * np.array([W, H, W, H])\n",
    "                (centerX, centerY, width, height) = box.astype(\"int\")\n",
    "\n",
    "                # use the center (x, y)-coordinates to derive the top and\n",
    "                # and left corner of the bounding box\n",
    "                x = int(centerX - (width / 2))\n",
    "                y = int(centerY - (height / 2))\n",
    "\n",
    "                # update our list of bounding box coordinates, confidences,\n",
    "                # and class IDs\n",
    "                boxes.append([x, y, int(width), int(height)])\n",
    "                confidences.append(float(confidence))\n",
    "                classIDs.append(classID)\n",
    "\n",
    "    # apply non-maxima suppression to suppress weak, overlapping bounding\n",
    "    # boxes\n",
    "    idxs = cv2.dnn.NMSBoxes(boxes, confidences, CONFIDENCE_THRESHOLD,\n",
    "        CONFIDENCE_THRESHOLD)\n",
    "\n",
    "    result = 0\n",
    "    # ensure at least one detection exists\n",
    "    if len(idxs) > 0:\n",
    "        # loop over the indexes we are keeping\n",
    "        for i in idxs.flatten():\n",
    "            # extract the bounding box coordinates\n",
    "            (x, y) = (boxes[i][0], boxes[i][1])\n",
    "            (w, h) = (boxes[i][2], boxes[i][3])\n",
    "            result=result+1\n",
    "\n",
    "            #draw bounding boxes, save as new image file\n",
    "            cv2.rectangle(image, (x, y), (x + w, y + h), color=(255,0,0), thickness=2)\n",
    "            text = \"{}: {:.4f}\".format(LABELS[classIDs[i]], confidences[i])\n",
    "            cv2.putText(image, text, (x, y - 5), cv2.FONT_HERSHEY_SIMPLEX,\n",
    "                0.5, color=(255,0,0), thickness=3)\n",
    "            roi = image[y:y+h, x:x+w]\n",
    "            #path = os.path.join(OUTPUT_IMAGE, str(result))\n",
    "            cv2.imwrite(f'{OUTPUT_FOLDER}/{str(iteration+1)}--{str(result)}.jpg', roi)\n",
    "            cv2.imwrite(f'{OUTPUT_FOLDER_CLEAN}/{str(num_res+1)}.jpg', roi)\n",
    "            num_res = num_res+1"
   ]
  }
 ],
 "metadata": {
  "kernelspec": {
   "display_name": "Python 3",
   "language": "python",
   "name": "python3"
  },
  "language_info": {
   "codemirror_mode": {
    "name": "ipython",
    "version": 3
   },
   "file_extension": ".py",
   "mimetype": "text/x-python",
   "name": "python",
   "nbconvert_exporter": "python",
   "pygments_lexer": "ipython3",
   "version": "3.8.3"
  }
 },
 "nbformat": 4,
 "nbformat_minor": 4
}
