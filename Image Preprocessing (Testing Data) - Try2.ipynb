{
 "cells": [
  {
   "cell_type": "code",
   "execution_count": 1,
   "metadata": {},
   "outputs": [],
   "source": [
    "import numpy as np\n",
    "import time\n",
    "import cv2\n",
    "import os\n",
    "import matplotlib.pyplot as plt\n",
    "from PIL import Image, ImageOps\n",
    "import math"
   ]
  },
  {
   "cell_type": "code",
   "execution_count": 9,
   "metadata": {},
   "outputs": [],
   "source": [
    "INPUT_FOLDER = r'D:\\GABY\\UPH\\TA2\\Code2\\test-face-detection-result-clean'\n",
    "OUTPUT_FOLDER = r'D:\\GABY\\UPH\\TA2\\Code2\\test-face-detection-result-clean-resized'\n",
    "GRAYSCALE_FOLDER = r'D:\\GABY\\UPH\\TA2\\Code2\\test-face-detection-result-clean-resized-gray'\n",
    "HIST_FOLDER = r'D:\\GABY\\UPH\\TA2\\Code2\\test-face-detection-result-clean-resized-gray-hist'"
   ]
  },
  {
   "cell_type": "markdown",
   "metadata": {},
   "source": [
    "### Resize Image"
   ]
  },
  {
   "cell_type": "markdown",
   "metadata": {},
   "source": [
    "First, find image with the smallest dimension. Then use that dimension as the stnadard size for the area, keeping aspect ratio."
   ]
  },
  {
   "cell_type": "code",
   "execution_count": 5,
   "metadata": {},
   "outputs": [
    {
     "name": "stdout",
     "output_type": "stream",
     "text": [
      "10300 60\n"
     ]
    }
   ],
   "source": [
    "#set first image as smallest\n",
    "image = Image.open(f'{INPUT_FOLDER}/{str(1)}.jpg')\n",
    "width, height = image.size\n",
    "MIN_SIZE = width*height\n",
    "smallest = 1\n",
    "\n",
    "#find number of images in file\n",
    "list = os.listdir(INPUT_FOLDER) # dir is your directory path\n",
    "number_files = len(list)\n",
    "\n",
    "#find smallest image\n",
    "for iteration in range(1, number_files):\n",
    "    file_num = iteration+1\n",
    "    image = Image.open(f'{INPUT_FOLDER}/{str(file_num)}.jpg')\n",
    "    width, height = image.size\n",
    "    current_size = width*height\n",
    "    if(current_size<MIN_SIZE):\n",
    "        MIN_SIZE = current_size\n",
    "        smallest = file_num\n",
    "        \n",
    "print(MIN_SIZE, smallest)"
   ]
  },
  {
   "cell_type": "code",
   "execution_count": 6,
   "metadata": {},
   "outputs": [],
   "source": [
    "#change image size\n",
    "for iteration in range(number_files):\n",
    "    i = iteration+1\n",
    "    image = Image.open(f'{INPUT_FOLDER}/{str(i)}.jpg')\n",
    "    width, height = image.size\n",
    "    ratio = math.sqrt(width*height/MIN_SIZE)\n",
    "    new_width = round(width/ratio)\n",
    "    new_height = round(height/ratio)\n",
    "    new_image = image.resize((new_width,new_height))\n",
    "    new_image.save(f'{OUTPUT_FOLDER}/{str(i)}.jpg')"
   ]
  },
  {
   "cell_type": "markdown",
   "metadata": {},
   "source": [
    "### Change image into grayscale"
   ]
  },
  {
   "cell_type": "code",
   "execution_count": 7,
   "metadata": {},
   "outputs": [],
   "source": [
    "for iteration in range(number_files):\n",
    "    i = iteration+1\n",
    "    image = Image.open(f'{OUTPUT_FOLDER}/{str(i)}.jpg')\n",
    "    gray = ImageOps.grayscale(image)\n",
    "    gray.save(f'{GRAYSCALE_FOLDER}/{str(i)}.jpg')"
   ]
  },
  {
   "cell_type": "markdown",
   "metadata": {},
   "source": [
    "### Histogram Equalization"
   ]
  },
  {
   "cell_type": "code",
   "execution_count": 10,
   "metadata": {},
   "outputs": [],
   "source": [
    "for iteration in range(number_files):\n",
    "    i = iteration+1\n",
    "    image = cv2.imread(f'{GRAYSCALE_FOLDER}/{str(i)}.jpg',0)\n",
    "    equ = cv2.equalizeHist(image)\n",
    "    cv2.imwrite(f'{HIST_FOLDER}/{str(i)}.jpg', equ)"
   ]
  }
 ],
 "metadata": {
  "kernelspec": {
   "display_name": "Python 3",
   "language": "python",
   "name": "python3"
  },
  "language_info": {
   "codemirror_mode": {
    "name": "ipython",
    "version": 3
   },
   "file_extension": ".py",
   "mimetype": "text/x-python",
   "name": "python",
   "nbconvert_exporter": "python",
   "pygments_lexer": "ipython3",
   "version": "3.8.3"
  }
 },
 "nbformat": 4,
 "nbformat_minor": 4
}
