{
 "cells": [
  {
   "cell_type": "code",
   "execution_count": 2,
   "metadata": {},
   "outputs": [],
   "source": [
    "from matplotlib.image import imread\n",
    "from matplotlib import image\n",
    "import matplotlib.pyplot as plt\n",
    "import numpy as np\n",
    "import pywt\n",
    "import os\n",
    "from PIL import Image\n",
    "from skimage import color\n",
    "from sklearn import svm\n",
    "import pandas as pd"
   ]
  },
  {
   "cell_type": "code",
   "execution_count": 3,
   "metadata": {},
   "outputs": [],
   "source": [
    "HIST_FOLDER = r'D:\\GABY\\UPH\\TA2\\Code2\\face-detection-result-clean-resized-gray-hist'\n",
    "DWT_WITH_DCT_FOLDER = r'D:\\GABY\\UPH\\TA2\\Code2\\face-detection-result-clean-resized-gray-hist-dwtwithdct'\n",
    "TEST_DWT_WITH_DCT_FOLDER = r'D:\\GABY\\UPH\\TA2\\Code2\\test-face-detection-result-clean-resized-gray-hist-dwtwithdct'\n",
    "CSV_FOLDER = r'D:\\GABY\\UPH\\TA2\\Code2\\training-data.csv'\n",
    "TEST_FOLDER = r'D:\\GABY\\UPH\\TA2\\Code2\\test-face-detection-result-clean-resized-gray-hist'\n",
    "TEST_CSV = r'D:\\GABY\\UPH\\TA2\\Code2\\testing-data.csv'"
   ]
  },
  {
   "cell_type": "code",
   "execution_count": 4,
   "metadata": {},
   "outputs": [],
   "source": [
    "#find number of images in file\n",
    "list = os.listdir(HIST_FOLDER) # dir is your directory path\n",
    "number_files = len(list)"
   ]
  },
  {
   "cell_type": "markdown",
   "metadata": {},
   "source": [
    "## Training Phase"
   ]
  },
  {
   "cell_type": "markdown",
   "metadata": {},
   "source": [
    "### Discrete Wavelet Transform"
   ]
  },
  {
   "cell_type": "code",
   "execution_count": 9,
   "metadata": {},
   "outputs": [],
   "source": [
    "#Wavelet Compression\n",
    "n=2\n",
    "w = 'haar'\n",
    "\n",
    "#features array for SVM\n",
    "x1 = []\n",
    "\n",
    "for iteration in range(number_files):\n",
    "    i = iteration+1\n",
    "    img = Image.open(f'{HIST_FOLDER}/{str(i)}.jpg')\n",
    "    coeffs = pywt.wavedec2(img, wavelet = w, level = n) \n",
    "    coeff_arr, coeff_slices = pywt.coeffs_to_array(coeffs) #arrange coeffs into single array\n",
    "    \n",
    "    features = coeff_arr[coeff_slices[0]]\n",
    "    plt.imsave(f'{DWT_WITH_DCT_FOLDER}/{str(i)}.jpg', features)\n",
    "\n",
    "    x1.append(features)    "
   ]
  },
  {
   "cell_type": "markdown",
   "metadata": {},
   "source": [
    "### Discrete Cosine Transform"
   ]
  },
  {
   "cell_type": "code",
   "execution_count": 79,
   "metadata": {},
   "outputs": [],
   "source": [
    "from scipy.fft import dctn, idctn\n",
    "import cv2"
   ]
  },
  {
   "cell_type": "code",
   "execution_count": 149,
   "metadata": {},
   "outputs": [],
   "source": [
    "list = os.listdir(DWT_WITH_DCT_FOLDER) # dir is your directory path\n",
    "number_files = len(list)"
   ]
  },
  {
   "cell_type": "code",
   "execution_count": 150,
   "metadata": {},
   "outputs": [],
   "source": [
    "dct_coeffs =[]"
   ]
  },
  {
   "cell_type": "code",
   "execution_count": 151,
   "metadata": {},
   "outputs": [],
   "source": [
    "for i in range(number_files):\n",
    "    img = imread(f'{DWT_WITH_DCT_FOLDER}/{str(i+1)}.jpg')\n",
    "    grayimg = cv2.cvtColor(img, cv2.COLOR_BGR2GRAY)\n",
    "    equ = cv2.equalizeHist(grayimg)\n",
    "    coeff = dctn(equ , norm ='ortho')\n",
    "    dct_coeffs.append(coeff)"
   ]
  },
  {
   "cell_type": "code",
   "execution_count": 152,
   "metadata": {},
   "outputs": [
    {
     "data": {
      "text/plain": [
       "array([[ 3.55307264e+04, -1.10467544e+03,  2.33867327e+03, ...,\n",
       "        -5.67281685e+00, -3.93516450e+00,  8.49691528e+00],\n",
       "       [ 3.39302431e+02, -4.41834155e+02, -1.05114683e+04, ...,\n",
       "        -9.44303168e-01,  8.47502674e+00, -1.69089507e+00],\n",
       "       [ 1.46579748e+03,  2.08534140e+02,  2.66105791e+02, ...,\n",
       "         3.15892056e+00, -8.49138550e+00, -7.79898166e+00],\n",
       "       ...,\n",
       "       [-1.04857524e+01,  1.95625425e+01,  7.64251511e+00, ...,\n",
       "        -2.23102150e+00,  3.02501739e+00,  5.29610206e-01],\n",
       "       [-1.65875744e+01,  3.51485734e+01,  8.80917794e+00, ...,\n",
       "         8.41625397e-01, -1.38566736e+00,  4.07407547e+00],\n",
       "       [ 7.59361746e+00,  1.07669604e+01, -5.19115715e+00, ...,\n",
       "         4.71177986e+00, -9.22727930e-01, -4.47031955e-01]])"
      ]
     },
     "execution_count": 152,
     "metadata": {},
     "output_type": "execute_result"
    }
   ],
   "source": [
    "dct_coeffs[0]"
   ]
  },
  {
   "cell_type": "markdown",
   "metadata": {},
   "source": [
    "find minimum number of coefficients (n)"
   ]
  },
  {
   "cell_type": "code",
   "execution_count": 153,
   "metadata": {},
   "outputs": [],
   "source": [
    "coeffs_min = len(dct_coeffs[0])*len(dct_coeffs[0][0])\n",
    "ind_coeffs_min = 0"
   ]
  },
  {
   "cell_type": "code",
   "execution_count": 154,
   "metadata": {},
   "outputs": [],
   "source": [
    "for i in range(len(dct_coeffs)):\n",
    "    if(len(dct_coeffs[i])*len(dct_coeffs[i][0])<coeffs_min):\n",
    "        coeffs_min = len(dct_coeffs[i])*len(dct_coeffs[i][0])\n",
    "        ind_coeffs_min = i"
   ]
  },
  {
   "cell_type": "code",
   "execution_count": 155,
   "metadata": {},
   "outputs": [
    {
     "data": {
      "text/plain": [
       "75884"
      ]
     },
     "execution_count": 155,
     "metadata": {},
     "output_type": "execute_result"
    }
   ],
   "source": [
    "coeffs_min"
   ]
  },
  {
   "cell_type": "code",
   "execution_count": 156,
   "metadata": {},
   "outputs": [],
   "source": [
    "coeffs_picked = 10000"
   ]
  },
  {
   "cell_type": "markdown",
   "metadata": {},
   "source": [
    "for all images, choose n coefficients for svm input"
   ]
  },
  {
   "cell_type": "code",
   "execution_count": 157,
   "metadata": {},
   "outputs": [],
   "source": [
    "new_coeffs = []\n",
    "for i in range(number_files):\n",
    "    whole = []\n",
    "    for j in range(20):\n",
    "        row = []\n",
    "        for k in range(20):\n",
    "            row.append(dct_coeffs[i][j][k])\n",
    "        whole.append(row)\n",
    "    new_coeffs.append(whole)"
   ]
  },
  {
   "cell_type": "code",
   "execution_count": 158,
   "metadata": {},
   "outputs": [
    {
     "data": {
      "text/plain": [
       "<matplotlib.image.AxesImage at 0x1bb16564d30>"
      ]
     },
     "execution_count": 158,
     "metadata": {},
     "output_type": "execute_result"
    },
    {
     "data": {
      "image/png": "[encoded data removed]",
      "text/plain": [
       "<Figure size 432x288 with 1 Axes>"
      ]
     },
     "metadata": {
      "needs_background": "light"
     },
     "output_type": "display_data"
    }
   ],
   "source": [
    "plt.imshow(idctn(new_coeffs[0], norm = 'ortho'))"
   ]
  },
  {
   "cell_type": "markdown",
   "metadata": {},
   "source": [
    "Flatten coefficients"
   ]
  },
  {
   "cell_type": "code",
   "execution_count": 159,
   "metadata": {},
   "outputs": [],
   "source": [
    "flat_coeff = []"
   ]
  },
  {
   "cell_type": "code",
   "execution_count": 160,
   "metadata": {},
   "outputs": [],
   "source": [
    "for n in range(number_files):\n",
    "    height = len(new_coeffs[n])\n",
    "    width = len(new_coeffs[n][0])\n",
    "    row = []\n",
    "    for k in range(width+height-1):\n",
    "        for j in range(k+1):\n",
    "            i = k-j\n",
    "            if i<height and j<width:\n",
    "                if len(row) < coeffs_picked:\n",
    "                    row.append(new_coeffs[n][i][j])\n",
    "    flat_coeff.append(row)"
   ]
  },
  {
   "cell_type": "code",
   "execution_count": 161,
   "metadata": {},
   "outputs": [],
   "source": [
    "new_coeffs_pd = pd.DataFrame(flat_coeff)\n",
    "new_coeffs_pd.to_csv('dct_coeffs_flat_try2.csv')"
   ]
  },
  {
   "cell_type": "code",
   "execution_count": 162,
   "metadata": {},
   "outputs": [
    {
     "data": {
      "text/html": [
       "<div>\n",
       "<style scoped>\n",
       "    .dataframe tbody tr th:only-of-type {\n",
       "        vertical-align: middle;\n",
       "    }\n",
       "\n",
       "    .dataframe tbody tr th {\n",
       "        vertical-align: top;\n",
       "    }\n",
       "\n",
       "    .dataframe thead th {\n",
       "        text-align: right;\n",
       "    }\n",
       "</style>\n",
       "<table border=\"1\" class=\"dataframe\">\n",
       "  <thead>\n",
       "    <tr style=\"text-align: right;\">\n",
       "      <th></th>\n",
       "      <th>0</th>\n",
       "      <th>1</th>\n",
       "      <th>2</th>\n",
       "      <th>3</th>\n",
       "      <th>4</th>\n",
       "      <th>5</th>\n",
       "      <th>6</th>\n",
       "      <th>7</th>\n",
       "      <th>8</th>\n",
       "      <th>9</th>\n",
       "      <th>...</th>\n",
       "      <th>390</th>\n",
       "      <th>391</th>\n",
       "      <th>392</th>\n",
       "      <th>393</th>\n",
       "      <th>394</th>\n",
       "      <th>395</th>\n",
       "      <th>396</th>\n",
       "      <th>397</th>\n",
       "      <th>398</th>\n",
       "      <th>399</th>\n",
       "    </tr>\n",
       "  </thead>\n",
       "  <tbody>\n",
       "    <tr>\n",
       "      <th>0</th>\n",
       "      <td>35530.726354</td>\n",
       "      <td>339.302431</td>\n",
       "      <td>-1104.675443</td>\n",
       "      <td>1465.797479</td>\n",
       "      <td>-441.834155</td>\n",
       "      <td>2338.673272</td>\n",
       "      <td>2533.026742</td>\n",
       "      <td>208.534140</td>\n",
       "      <td>-10511.468255</td>\n",
       "      <td>589.131927</td>\n",
       "      <td>...</td>\n",
       "      <td>-106.276322</td>\n",
       "      <td>-444.132115</td>\n",
       "      <td>-193.006239</td>\n",
       "      <td>-116.850212</td>\n",
       "      <td>200.585009</td>\n",
       "      <td>-57.582368</td>\n",
       "      <td>35.974862</td>\n",
       "      <td>160.617830</td>\n",
       "      <td>240.569597</td>\n",
       "      <td>-112.904542</td>\n",
       "    </tr>\n",
       "    <tr>\n",
       "      <th>1</th>\n",
       "      <td>35560.801501</td>\n",
       "      <td>-73.405088</td>\n",
       "      <td>-734.855326</td>\n",
       "      <td>1880.762241</td>\n",
       "      <td>-536.093045</td>\n",
       "      <td>2256.078619</td>\n",
       "      <td>1047.333448</td>\n",
       "      <td>-31.772286</td>\n",
       "      <td>-10524.564399</td>\n",
       "      <td>1700.830935</td>\n",
       "      <td>...</td>\n",
       "      <td>-179.492683</td>\n",
       "      <td>125.810356</td>\n",
       "      <td>30.795235</td>\n",
       "      <td>165.505108</td>\n",
       "      <td>388.559361</td>\n",
       "      <td>27.958032</td>\n",
       "      <td>-25.265712</td>\n",
       "      <td>79.725738</td>\n",
       "      <td>-107.614407</td>\n",
       "      <td>-157.151547</td>\n",
       "    </tr>\n",
       "    <tr>\n",
       "      <th>2</th>\n",
       "      <td>35508.809777</td>\n",
       "      <td>347.132598</td>\n",
       "      <td>-1912.235292</td>\n",
       "      <td>1513.139065</td>\n",
       "      <td>227.612058</td>\n",
       "      <td>797.420277</td>\n",
       "      <td>3145.428522</td>\n",
       "      <td>79.897299</td>\n",
       "      <td>-10388.146569</td>\n",
       "      <td>-265.857281</td>\n",
       "      <td>...</td>\n",
       "      <td>-336.317299</td>\n",
       "      <td>-26.753344</td>\n",
       "      <td>-396.634828</td>\n",
       "      <td>-21.984749</td>\n",
       "      <td>32.911497</td>\n",
       "      <td>105.394842</td>\n",
       "      <td>-31.220666</td>\n",
       "      <td>206.339047</td>\n",
       "      <td>-55.155792</td>\n",
       "      <td>-16.463466</td>\n",
       "    </tr>\n",
       "    <tr>\n",
       "      <th>3</th>\n",
       "      <td>35515.625428</td>\n",
       "      <td>1679.644474</td>\n",
       "      <td>-1267.463421</td>\n",
       "      <td>2112.235578</td>\n",
       "      <td>-2210.929963</td>\n",
       "      <td>-2800.308896</td>\n",
       "      <td>-1033.975768</td>\n",
       "      <td>-123.009030</td>\n",
       "      <td>-9858.324506</td>\n",
       "      <td>1106.828716</td>\n",
       "      <td>...</td>\n",
       "      <td>-79.521877</td>\n",
       "      <td>-341.493929</td>\n",
       "      <td>170.306757</td>\n",
       "      <td>-287.944455</td>\n",
       "      <td>296.485615</td>\n",
       "      <td>134.572092</td>\n",
       "      <td>514.712024</td>\n",
       "      <td>88.406415</td>\n",
       "      <td>44.720962</td>\n",
       "      <td>-124.632140</td>\n",
       "    </tr>\n",
       "    <tr>\n",
       "      <th>4</th>\n",
       "      <td>35542.627064</td>\n",
       "      <td>1714.834596</td>\n",
       "      <td>-7695.765531</td>\n",
       "      <td>-559.495868</td>\n",
       "      <td>-234.191803</td>\n",
       "      <td>-1405.037529</td>\n",
       "      <td>3955.562106</td>\n",
       "      <td>-926.961685</td>\n",
       "      <td>-8906.362495</td>\n",
       "      <td>-5583.995198</td>\n",
       "      <td>...</td>\n",
       "      <td>303.867566</td>\n",
       "      <td>66.651668</td>\n",
       "      <td>271.346594</td>\n",
       "      <td>40.476194</td>\n",
       "      <td>-17.418472</td>\n",
       "      <td>4.699538</td>\n",
       "      <td>-176.966339</td>\n",
       "      <td>-35.093843</td>\n",
       "      <td>-10.585242</td>\n",
       "      <td>238.784001</td>\n",
       "    </tr>\n",
       "    <tr>\n",
       "      <th>...</th>\n",
       "      <td>...</td>\n",
       "      <td>...</td>\n",
       "      <td>...</td>\n",
       "      <td>...</td>\n",
       "      <td>...</td>\n",
       "      <td>...</td>\n",
       "      <td>...</td>\n",
       "      <td>...</td>\n",
       "      <td>...</td>\n",
       "      <td>...</td>\n",
       "      <td>...</td>\n",
       "      <td>...</td>\n",
       "      <td>...</td>\n",
       "      <td>...</td>\n",
       "      <td>...</td>\n",
       "      <td>...</td>\n",
       "      <td>...</td>\n",
       "      <td>...</td>\n",
       "      <td>...</td>\n",
       "      <td>...</td>\n",
       "      <td>...</td>\n",
       "    </tr>\n",
       "    <tr>\n",
       "      <th>211</th>\n",
       "      <td>35522.063072</td>\n",
       "      <td>-5185.606870</td>\n",
       "      <td>-7696.660437</td>\n",
       "      <td>262.741595</td>\n",
       "      <td>-2851.665708</td>\n",
       "      <td>5167.002572</td>\n",
       "      <td>-804.468824</td>\n",
       "      <td>-329.040059</td>\n",
       "      <td>-7214.510591</td>\n",
       "      <td>-2714.244165</td>\n",
       "      <td>...</td>\n",
       "      <td>-78.275738</td>\n",
       "      <td>-119.280384</td>\n",
       "      <td>5.856206</td>\n",
       "      <td>-146.377486</td>\n",
       "      <td>242.751873</td>\n",
       "      <td>18.115837</td>\n",
       "      <td>-205.586672</td>\n",
       "      <td>-55.971218</td>\n",
       "      <td>215.072276</td>\n",
       "      <td>-75.345302</td>\n",
       "    </tr>\n",
       "    <tr>\n",
       "      <th>212</th>\n",
       "      <td>35500.408892</td>\n",
       "      <td>-5543.702572</td>\n",
       "      <td>3966.989054</td>\n",
       "      <td>-2007.824151</td>\n",
       "      <td>1770.093611</td>\n",
       "      <td>2525.580814</td>\n",
       "      <td>671.081892</td>\n",
       "      <td>1428.250556</td>\n",
       "      <td>-7166.029043</td>\n",
       "      <td>5052.338099</td>\n",
       "      <td>...</td>\n",
       "      <td>-82.219633</td>\n",
       "      <td>494.834735</td>\n",
       "      <td>-271.107484</td>\n",
       "      <td>-145.884489</td>\n",
       "      <td>-30.630003</td>\n",
       "      <td>-221.243245</td>\n",
       "      <td>84.605254</td>\n",
       "      <td>-15.269027</td>\n",
       "      <td>-231.154835</td>\n",
       "      <td>-21.269819</td>\n",
       "    </tr>\n",
       "    <tr>\n",
       "      <th>213</th>\n",
       "      <td>35507.314124</td>\n",
       "      <td>-5646.581454</td>\n",
       "      <td>3954.296643</td>\n",
       "      <td>-2164.250523</td>\n",
       "      <td>1213.542475</td>\n",
       "      <td>4068.726359</td>\n",
       "      <td>601.936017</td>\n",
       "      <td>1924.625860</td>\n",
       "      <td>-7254.840330</td>\n",
       "      <td>4348.244638</td>\n",
       "      <td>...</td>\n",
       "      <td>-302.111927</td>\n",
       "      <td>318.829295</td>\n",
       "      <td>184.338780</td>\n",
       "      <td>389.627066</td>\n",
       "      <td>215.218934</td>\n",
       "      <td>-253.453512</td>\n",
       "      <td>69.290957</td>\n",
       "      <td>-25.877780</td>\n",
       "      <td>-280.701319</td>\n",
       "      <td>-126.231823</td>\n",
       "    </tr>\n",
       "    <tr>\n",
       "      <th>214</th>\n",
       "      <td>35493.409611</td>\n",
       "      <td>-4442.382612</td>\n",
       "      <td>4180.062691</td>\n",
       "      <td>-717.776212</td>\n",
       "      <td>1043.162974</td>\n",
       "      <td>4032.414284</td>\n",
       "      <td>1498.121176</td>\n",
       "      <td>1662.872255</td>\n",
       "      <td>-7737.803825</td>\n",
       "      <td>4856.049456</td>\n",
       "      <td>...</td>\n",
       "      <td>-104.075904</td>\n",
       "      <td>8.609871</td>\n",
       "      <td>160.625897</td>\n",
       "      <td>251.381699</td>\n",
       "      <td>114.783684</td>\n",
       "      <td>-260.362366</td>\n",
       "      <td>11.945250</td>\n",
       "      <td>-84.883975</td>\n",
       "      <td>-22.203485</td>\n",
       "      <td>84.466070</td>\n",
       "    </tr>\n",
       "    <tr>\n",
       "      <th>215</th>\n",
       "      <td>35516.607595</td>\n",
       "      <td>-3717.704753</td>\n",
       "      <td>4094.903982</td>\n",
       "      <td>-470.850873</td>\n",
       "      <td>1592.906734</td>\n",
       "      <td>2265.862234</td>\n",
       "      <td>2550.130634</td>\n",
       "      <td>1688.456793</td>\n",
       "      <td>-8442.985592</td>\n",
       "      <td>5255.241060</td>\n",
       "      <td>...</td>\n",
       "      <td>99.998067</td>\n",
       "      <td>-37.003733</td>\n",
       "      <td>-71.875872</td>\n",
       "      <td>-46.326895</td>\n",
       "      <td>164.907396</td>\n",
       "      <td>117.855863</td>\n",
       "      <td>280.435402</td>\n",
       "      <td>6.643998</td>\n",
       "      <td>-75.932813</td>\n",
       "      <td>-177.028780</td>\n",
       "    </tr>\n",
       "  </tbody>\n",
       "</table>\n",
       "<p>216 rows × 400 columns</p>\n",
       "</div>"
      ],
      "text/plain": [
       "              0            1            2            3            4    \\\n",
       "0    35530.726354   339.302431 -1104.675443  1465.797479  -441.834155   \n",
       "1    35560.801501   -73.405088  -734.855326  1880.762241  -536.093045   \n",
       "2    35508.809777   347.132598 -1912.235292  1513.139065   227.612058   \n",
       "3    35515.625428  1679.644474 -1267.463421  2112.235578 -2210.929963   \n",
       "4    35542.627064  1714.834596 -7695.765531  -559.495868  -234.191803   \n",
       "..            ...          ...          ...          ...          ...   \n",
       "211  35522.063072 -5185.606870 -7696.660437   262.741595 -2851.665708   \n",
       "212  35500.408892 -5543.702572  3966.989054 -2007.824151  1770.093611   \n",
       "213  35507.314124 -5646.581454  3954.296643 -2164.250523  1213.542475   \n",
       "214  35493.409611 -4442.382612  4180.062691  -717.776212  1043.162974   \n",
       "215  35516.607595 -3717.704753  4094.903982  -470.850873  1592.906734   \n",
       "\n",
       "             5            6            7             8            9    ...  \\\n",
       "0    2338.673272  2533.026742   208.534140 -10511.468255   589.131927  ...   \n",
       "1    2256.078619  1047.333448   -31.772286 -10524.564399  1700.830935  ...   \n",
       "2     797.420277  3145.428522    79.897299 -10388.146569  -265.857281  ...   \n",
       "3   -2800.308896 -1033.975768  -123.009030  -9858.324506  1106.828716  ...   \n",
       "4   -1405.037529  3955.562106  -926.961685  -8906.362495 -5583.995198  ...   \n",
       "..           ...          ...          ...           ...          ...  ...   \n",
       "211  5167.002572  -804.468824  -329.040059  -7214.510591 -2714.244165  ...   \n",
       "212  2525.580814   671.081892  1428.250556  -7166.029043  5052.338099  ...   \n",
       "213  4068.726359   601.936017  1924.625860  -7254.840330  4348.244638  ...   \n",
       "214  4032.414284  1498.121176  1662.872255  -7737.803825  4856.049456  ...   \n",
       "215  2265.862234  2550.130634  1688.456793  -8442.985592  5255.241060  ...   \n",
       "\n",
       "            390         391         392         393         394         395  \\\n",
       "0   -106.276322 -444.132115 -193.006239 -116.850212  200.585009  -57.582368   \n",
       "1   -179.492683  125.810356   30.795235  165.505108  388.559361   27.958032   \n",
       "2   -336.317299  -26.753344 -396.634828  -21.984749   32.911497  105.394842   \n",
       "3    -79.521877 -341.493929  170.306757 -287.944455  296.485615  134.572092   \n",
       "4    303.867566   66.651668  271.346594   40.476194  -17.418472    4.699538   \n",
       "..          ...         ...         ...         ...         ...         ...   \n",
       "211  -78.275738 -119.280384    5.856206 -146.377486  242.751873   18.115837   \n",
       "212  -82.219633  494.834735 -271.107484 -145.884489  -30.630003 -221.243245   \n",
       "213 -302.111927  318.829295  184.338780  389.627066  215.218934 -253.453512   \n",
       "214 -104.075904    8.609871  160.625897  251.381699  114.783684 -260.362366   \n",
       "215   99.998067  -37.003733  -71.875872  -46.326895  164.907396  117.855863   \n",
       "\n",
       "            396         397         398         399  \n",
       "0     35.974862  160.617830  240.569597 -112.904542  \n",
       "1    -25.265712   79.725738 -107.614407 -157.151547  \n",
       "2    -31.220666  206.339047  -55.155792  -16.463466  \n",
       "3    514.712024   88.406415   44.720962 -124.632140  \n",
       "4   -176.966339  -35.093843  -10.585242  238.784001  \n",
       "..          ...         ...         ...         ...  \n",
       "211 -205.586672  -55.971218  215.072276  -75.345302  \n",
       "212   84.605254  -15.269027 -231.154835  -21.269819  \n",
       "213   69.290957  -25.877780 -280.701319 -126.231823  \n",
       "214   11.945250  -84.883975  -22.203485   84.466070  \n",
       "215  280.435402    6.643998  -75.932813 -177.028780  \n",
       "\n",
       "[216 rows x 400 columns]"
      ]
     },
     "execution_count": 162,
     "metadata": {},
     "output_type": "execute_result"
    }
   ],
   "source": [
    "new_coeffs_pd"
   ]
  },
  {
   "cell_type": "code",
   "execution_count": 163,
   "metadata": {},
   "outputs": [
    {
     "data": {
      "text/plain": [
       "35530.726353630525"
      ]
     },
     "execution_count": 163,
     "metadata": {},
     "output_type": "execute_result"
    }
   ],
   "source": [
    "new_coeffs_pd.iloc[0].max()"
   ]
  },
  {
   "cell_type": "code",
   "execution_count": 164,
   "metadata": {},
   "outputs": [],
   "source": [
    "norm_dct_coeffs = []"
   ]
  },
  {
   "cell_type": "code",
   "execution_count": 165,
   "metadata": {},
   "outputs": [],
   "source": [
    "for i in range(number_files):\n",
    "    min_data = new_coeffs_pd.iloc[i].min()\n",
    "    max_data = new_coeffs_pd.iloc[i].max()\n",
    "    row = []\n",
    "    for j in range(400):\n",
    "        temp = (new_coeffs_pd.iloc[i][j]-min_data)/(max_data-min_data)*100\n",
    "        row.append(temp)\n",
    "    norm_dct_coeffs.append(row)"
   ]
  },
  {
   "cell_type": "markdown",
   "metadata": {},
   "source": [
    "### SVM"
   ]
  },
  {
   "cell_type": "markdown",
   "metadata": {},
   "source": [
    "Train data"
   ]
  },
  {
   "cell_type": "code",
   "execution_count": 166,
   "metadata": {},
   "outputs": [],
   "source": [
    "x = pd.DataFrame(norm_dct_coeffs)\n",
    "y = pd.read_csv(CSV_FOLDER, header=None)"
   ]
  },
  {
   "cell_type": "markdown",
   "metadata": {},
   "source": [
    "Validation data"
   ]
  },
  {
   "cell_type": "code",
   "execution_count": 167,
   "metadata": {},
   "outputs": [],
   "source": [
    "from sklearn.model_selection import train_test_split"
   ]
  },
  {
   "cell_type": "code",
   "execution_count": 168,
   "metadata": {},
   "outputs": [],
   "source": [
    "x_train, x_val, y_train, y_val = train_test_split(x, y, test_size=0.2, random_state=0)"
   ]
  },
  {
   "cell_type": "code",
   "execution_count": 169,
   "metadata": {},
   "outputs": [
    {
     "data": {
      "text/html": [
       "<div>\n",
       "<style scoped>\n",
       "    .dataframe tbody tr th:only-of-type {\n",
       "        vertical-align: middle;\n",
       "    }\n",
       "\n",
       "    .dataframe tbody tr th {\n",
       "        vertical-align: top;\n",
       "    }\n",
       "\n",
       "    .dataframe thead th {\n",
       "        text-align: right;\n",
       "    }\n",
       "</style>\n",
       "<table border=\"1\" class=\"dataframe\">\n",
       "  <thead>\n",
       "    <tr style=\"text-align: right;\">\n",
       "      <th></th>\n",
       "      <th>0</th>\n",
       "      <th>1</th>\n",
       "      <th>2</th>\n",
       "      <th>3</th>\n",
       "      <th>4</th>\n",
       "      <th>5</th>\n",
       "      <th>6</th>\n",
       "      <th>7</th>\n",
       "      <th>8</th>\n",
       "      <th>9</th>\n",
       "      <th>...</th>\n",
       "      <th>390</th>\n",
       "      <th>391</th>\n",
       "      <th>392</th>\n",
       "      <th>393</th>\n",
       "      <th>394</th>\n",
       "      <th>395</th>\n",
       "      <th>396</th>\n",
       "      <th>397</th>\n",
       "      <th>398</th>\n",
       "      <th>399</th>\n",
       "    </tr>\n",
       "  </thead>\n",
       "  <tbody>\n",
       "    <tr>\n",
       "      <th>136</th>\n",
       "      <td>100.0</td>\n",
       "      <td>0.000000</td>\n",
       "      <td>2.989403</td>\n",
       "      <td>3.022481</td>\n",
       "      <td>22.282607</td>\n",
       "      <td>31.455727</td>\n",
       "      <td>16.574657</td>\n",
       "      <td>19.032750</td>\n",
       "      <td>12.229831</td>\n",
       "      <td>10.626906</td>\n",
       "      <td>...</td>\n",
       "      <td>19.560812</td>\n",
       "      <td>19.792461</td>\n",
       "      <td>19.476651</td>\n",
       "      <td>19.406069</td>\n",
       "      <td>19.849905</td>\n",
       "      <td>20.050022</td>\n",
       "      <td>20.023653</td>\n",
       "      <td>19.877076</td>\n",
       "      <td>20.046136</td>\n",
       "      <td>19.604806</td>\n",
       "    </tr>\n",
       "    <tr>\n",
       "      <th>123</th>\n",
       "      <td>100.0</td>\n",
       "      <td>28.895769</td>\n",
       "      <td>12.029919</td>\n",
       "      <td>0.000000</td>\n",
       "      <td>18.918748</td>\n",
       "      <td>0.249052</td>\n",
       "      <td>2.506681</td>\n",
       "      <td>16.362028</td>\n",
       "      <td>20.341461</td>\n",
       "      <td>18.065091</td>\n",
       "      <td>...</td>\n",
       "      <td>18.273672</td>\n",
       "      <td>17.715325</td>\n",
       "      <td>17.902512</td>\n",
       "      <td>17.771824</td>\n",
       "      <td>17.134869</td>\n",
       "      <td>18.006343</td>\n",
       "      <td>17.447834</td>\n",
       "      <td>17.305322</td>\n",
       "      <td>17.174393</td>\n",
       "      <td>17.573134</td>\n",
       "    </tr>\n",
       "    <tr>\n",
       "      <th>22</th>\n",
       "      <td>100.0</td>\n",
       "      <td>0.000000</td>\n",
       "      <td>26.223265</td>\n",
       "      <td>1.039103</td>\n",
       "      <td>10.843716</td>\n",
       "      <td>9.429635</td>\n",
       "      <td>19.146157</td>\n",
       "      <td>18.701321</td>\n",
       "      <td>8.309994</td>\n",
       "      <td>27.294455</td>\n",
       "      <td>...</td>\n",
       "      <td>16.548104</td>\n",
       "      <td>16.112169</td>\n",
       "      <td>15.760737</td>\n",
       "      <td>16.141102</td>\n",
       "      <td>16.737613</td>\n",
       "      <td>16.437354</td>\n",
       "      <td>16.469043</td>\n",
       "      <td>16.095614</td>\n",
       "      <td>16.501699</td>\n",
       "      <td>16.263864</td>\n",
       "    </tr>\n",
       "    <tr>\n",
       "      <th>80</th>\n",
       "      <td>100.0</td>\n",
       "      <td>16.831257</td>\n",
       "      <td>25.977331</td>\n",
       "      <td>1.924016</td>\n",
       "      <td>13.006336</td>\n",
       "      <td>5.313874</td>\n",
       "      <td>22.734085</td>\n",
       "      <td>18.114015</td>\n",
       "      <td>0.000000</td>\n",
       "      <td>31.721833</td>\n",
       "      <td>...</td>\n",
       "      <td>12.462328</td>\n",
       "      <td>12.494078</td>\n",
       "      <td>12.765727</td>\n",
       "      <td>12.928671</td>\n",
       "      <td>12.590123</td>\n",
       "      <td>12.650511</td>\n",
       "      <td>12.782672</td>\n",
       "      <td>12.814985</td>\n",
       "      <td>12.873406</td>\n",
       "      <td>12.360623</td>\n",
       "    </tr>\n",
       "    <tr>\n",
       "      <th>45</th>\n",
       "      <td>100.0</td>\n",
       "      <td>12.722292</td>\n",
       "      <td>25.693444</td>\n",
       "      <td>18.032594</td>\n",
       "      <td>17.080240</td>\n",
       "      <td>36.794907</td>\n",
       "      <td>20.975917</td>\n",
       "      <td>17.542208</td>\n",
       "      <td>0.000000</td>\n",
       "      <td>15.191558</td>\n",
       "      <td>...</td>\n",
       "      <td>15.815383</td>\n",
       "      <td>15.600454</td>\n",
       "      <td>15.947882</td>\n",
       "      <td>16.749045</td>\n",
       "      <td>15.601230</td>\n",
       "      <td>15.610916</td>\n",
       "      <td>15.722812</td>\n",
       "      <td>15.727040</td>\n",
       "      <td>15.560232</td>\n",
       "      <td>15.473122</td>\n",
       "    </tr>\n",
       "  </tbody>\n",
       "</table>\n",
       "<p>5 rows × 400 columns</p>\n",
       "</div>"
      ],
      "text/plain": [
       "       0          1          2          3          4          5          6    \\\n",
       "136  100.0   0.000000   2.989403   3.022481  22.282607  31.455727  16.574657   \n",
       "123  100.0  28.895769  12.029919   0.000000  18.918748   0.249052   2.506681   \n",
       "22   100.0   0.000000  26.223265   1.039103  10.843716   9.429635  19.146157   \n",
       "80   100.0  16.831257  25.977331   1.924016  13.006336   5.313874  22.734085   \n",
       "45   100.0  12.722292  25.693444  18.032594  17.080240  36.794907  20.975917   \n",
       "\n",
       "           7          8          9    ...        390        391        392  \\\n",
       "136  19.032750  12.229831  10.626906  ...  19.560812  19.792461  19.476651   \n",
       "123  16.362028  20.341461  18.065091  ...  18.273672  17.715325  17.902512   \n",
       "22   18.701321   8.309994  27.294455  ...  16.548104  16.112169  15.760737   \n",
       "80   18.114015   0.000000  31.721833  ...  12.462328  12.494078  12.765727   \n",
       "45   17.542208   0.000000  15.191558  ...  15.815383  15.600454  15.947882   \n",
       "\n",
       "           393        394        395        396        397        398  \\\n",
       "136  19.406069  19.849905  20.050022  20.023653  19.877076  20.046136   \n",
       "123  17.771824  17.134869  18.006343  17.447834  17.305322  17.174393   \n",
       "22   16.141102  16.737613  16.437354  16.469043  16.095614  16.501699   \n",
       "80   12.928671  12.590123  12.650511  12.782672  12.814985  12.873406   \n",
       "45   16.749045  15.601230  15.610916  15.722812  15.727040  15.560232   \n",
       "\n",
       "           399  \n",
       "136  19.604806  \n",
       "123  17.573134  \n",
       "22   16.263864  \n",
       "80   12.360623  \n",
       "45   15.473122  \n",
       "\n",
       "[5 rows x 400 columns]"
      ]
     },
     "execution_count": 169,
     "metadata": {},
     "output_type": "execute_result"
    }
   ],
   "source": [
    "x_train.head()"
   ]
  },
  {
   "cell_type": "markdown",
   "metadata": {},
   "source": [
    "build classifier with default parameter values"
   ]
  },
  {
   "cell_type": "code",
   "execution_count": 170,
   "metadata": {},
   "outputs": [
    {
     "data": {
      "text/plain": [
       "SVC()"
      ]
     },
     "execution_count": 170,
     "metadata": {},
     "output_type": "execute_result"
    }
   ],
   "source": [
    "classifier = svm.SVC()\n",
    "classifier.fit(x_train,y_train.values.ravel())"
   ]
  },
  {
   "cell_type": "code",
   "execution_count": 171,
   "metadata": {},
   "outputs": [],
   "source": [
    "result = classifier.predict(x_val)"
   ]
  },
  {
   "cell_type": "code",
   "execution_count": 172,
   "metadata": {},
   "outputs": [
    {
     "data": {
      "text/plain": [
       "array([ 4,  4,  8,  4,  4,  7,  4, 16,  1,  4,  1,  1,  1, 18,  7, 18, 17,\n",
       "        3, 18, 18,  6,  1,  3, 16, 11, 11, 18,  3,  8,  4,  1,  4,  4, 18,\n",
       "       16,  4,  4,  3,  8,  4,  4, 16, 11, 11], dtype=int64)"
      ]
     },
     "execution_count": 172,
     "metadata": {},
     "output_type": "execute_result"
    }
   ],
   "source": [
    "result"
   ]
  },
  {
   "cell_type": "code",
   "execution_count": 173,
   "metadata": {},
   "outputs": [],
   "source": [
    "y_val.to_csv('dct_correct_try2.csv')"
   ]
  },
  {
   "cell_type": "code",
   "execution_count": 174,
   "metadata": {},
   "outputs": [
    {
     "data": {
      "text/html": [
       "<div>\n",
       "<style scoped>\n",
       "    .dataframe tbody tr th:only-of-type {\n",
       "        vertical-align: middle;\n",
       "    }\n",
       "\n",
       "    .dataframe tbody tr th {\n",
       "        vertical-align: top;\n",
       "    }\n",
       "\n",
       "    .dataframe thead th {\n",
       "        text-align: right;\n",
       "    }\n",
       "</style>\n",
       "<table border=\"1\" class=\"dataframe\">\n",
       "  <thead>\n",
       "    <tr style=\"text-align: right;\">\n",
       "      <th></th>\n",
       "      <th>0</th>\n",
       "    </tr>\n",
       "  </thead>\n",
       "  <tbody>\n",
       "    <tr>\n",
       "      <th>39</th>\n",
       "      <td>4</td>\n",
       "    </tr>\n",
       "    <tr>\n",
       "      <th>40</th>\n",
       "      <td>4</td>\n",
       "    </tr>\n",
       "    <tr>\n",
       "      <th>41</th>\n",
       "      <td>16</td>\n",
       "    </tr>\n",
       "    <tr>\n",
       "      <th>42</th>\n",
       "      <td>11</td>\n",
       "    </tr>\n",
       "    <tr>\n",
       "      <th>43</th>\n",
       "      <td>11</td>\n",
       "    </tr>\n",
       "  </tbody>\n",
       "</table>\n",
       "</div>"
      ],
      "text/plain": [
       "     0\n",
       "39   4\n",
       "40   4\n",
       "41  16\n",
       "42  11\n",
       "43  11"
      ]
     },
     "execution_count": 174,
     "metadata": {},
     "output_type": "execute_result"
    }
   ],
   "source": [
    "result_pd = pd.DataFrame(result)\n",
    "result_pd.to_csv('dct_result1_try2.csv')\n",
    "result_pd.tail()"
   ]
  },
  {
   "cell_type": "code",
   "execution_count": 175,
   "metadata": {},
   "outputs": [
    {
     "data": {
      "text/plain": [
       "13"
      ]
     },
     "execution_count": 175,
     "metadata": {},
     "output_type": "execute_result"
    }
   ],
   "source": [
    "#checking for accuracy\n",
    "cnt = 0\n",
    "for i in range(len(y_val)):\n",
    "    if(result[i]==y_val[0].values[i]):\n",
    "        cnt = cnt+1\n",
    "acc = cnt/len(y_val)\n",
    "cnt"
   ]
  },
  {
   "cell_type": "code",
   "execution_count": 176,
   "metadata": {},
   "outputs": [
    {
     "data": {
      "text/plain": [
       "29.545454545454547"
      ]
     },
     "execution_count": 176,
     "metadata": {},
     "output_type": "execute_result"
    }
   ],
   "source": [
    "acc*100"
   ]
  },
  {
   "cell_type": "markdown",
   "metadata": {},
   "source": [
    "Trying out different values of C and gamma"
   ]
  },
  {
   "cell_type": "code",
   "execution_count": 177,
   "metadata": {},
   "outputs": [
    {
     "data": {
      "text/plain": [
       "2"
      ]
     },
     "execution_count": 177,
     "metadata": {},
     "output_type": "execute_result"
    }
   ],
   "source": [
    "c_vals = np.arange(1,20)\n",
    "g_vals = ['scale', 'auto']\n",
    "len(g_vals)"
   ]
  },
  {
   "cell_type": "code",
   "execution_count": 178,
   "metadata": {},
   "outputs": [],
   "source": [
    "right_guess = []\n",
    "accuracies = []"
   ]
  },
  {
   "cell_type": "code",
   "execution_count": 179,
   "metadata": {},
   "outputs": [],
   "source": [
    "for c_val in c_vals:\n",
    "    row_guess = []\n",
    "    row_acc = []\n",
    "    for g_val in g_vals:\n",
    "        classifier = svm.SVC(C = c_val, gamma = g_val)\n",
    "        classifier.fit(x_train,y_train.values.ravel())\n",
    "        result = classifier.predict(x_val)\n",
    "        cnt = 0\n",
    "        for i in range(len(y_val)):\n",
    "            if(result[i]==y_val[0].values[i]):\n",
    "                cnt = cnt+1\n",
    "        acc = cnt/len(y_val)\n",
    "        row_guess.append(cnt)\n",
    "        row_acc.append(acc*100)\n",
    "    right_guess.append(row_guess)\n",
    "    accuracies.append(row_acc)"
   ]
  },
  {
   "cell_type": "code",
   "execution_count": 180,
   "metadata": {},
   "outputs": [],
   "source": [
    "right_guess = np.array(right_guess)"
   ]
  },
  {
   "cell_type": "code",
   "execution_count": 181,
   "metadata": {},
   "outputs": [
    {
     "data": {
      "text/html": [
       "<div>\n",
       "<style scoped>\n",
       "    .dataframe tbody tr th:only-of-type {\n",
       "        vertical-align: middle;\n",
       "    }\n",
       "\n",
       "    .dataframe tbody tr th {\n",
       "        vertical-align: top;\n",
       "    }\n",
       "\n",
       "    .dataframe thead th {\n",
       "        text-align: right;\n",
       "    }\n",
       "</style>\n",
       "<table border=\"1\" class=\"dataframe\">\n",
       "  <thead>\n",
       "    <tr style=\"text-align: right;\">\n",
       "      <th></th>\n",
       "      <th>scale</th>\n",
       "      <th>auto</th>\n",
       "    </tr>\n",
       "  </thead>\n",
       "  <tbody>\n",
       "    <tr>\n",
       "      <th>1</th>\n",
       "      <td>13</td>\n",
       "      <td>13</td>\n",
       "    </tr>\n",
       "    <tr>\n",
       "      <th>2</th>\n",
       "      <td>22</td>\n",
       "      <td>16</td>\n",
       "    </tr>\n",
       "    <tr>\n",
       "      <th>3</th>\n",
       "      <td>25</td>\n",
       "      <td>16</td>\n",
       "    </tr>\n",
       "    <tr>\n",
       "      <th>4</th>\n",
       "      <td>28</td>\n",
       "      <td>16</td>\n",
       "    </tr>\n",
       "    <tr>\n",
       "      <th>5</th>\n",
       "      <td>32</td>\n",
       "      <td>16</td>\n",
       "    </tr>\n",
       "    <tr>\n",
       "      <th>6</th>\n",
       "      <td>36</td>\n",
       "      <td>16</td>\n",
       "    </tr>\n",
       "    <tr>\n",
       "      <th>7</th>\n",
       "      <td>35</td>\n",
       "      <td>16</td>\n",
       "    </tr>\n",
       "    <tr>\n",
       "      <th>8</th>\n",
       "      <td>36</td>\n",
       "      <td>16</td>\n",
       "    </tr>\n",
       "    <tr>\n",
       "      <th>9</th>\n",
       "      <td>37</td>\n",
       "      <td>16</td>\n",
       "    </tr>\n",
       "    <tr>\n",
       "      <th>10</th>\n",
       "      <td>37</td>\n",
       "      <td>16</td>\n",
       "    </tr>\n",
       "    <tr>\n",
       "      <th>11</th>\n",
       "      <td>37</td>\n",
       "      <td>16</td>\n",
       "    </tr>\n",
       "    <tr>\n",
       "      <th>12</th>\n",
       "      <td>37</td>\n",
       "      <td>16</td>\n",
       "    </tr>\n",
       "    <tr>\n",
       "      <th>13</th>\n",
       "      <td>37</td>\n",
       "      <td>16</td>\n",
       "    </tr>\n",
       "    <tr>\n",
       "      <th>14</th>\n",
       "      <td>37</td>\n",
       "      <td>16</td>\n",
       "    </tr>\n",
       "    <tr>\n",
       "      <th>15</th>\n",
       "      <td>37</td>\n",
       "      <td>16</td>\n",
       "    </tr>\n",
       "    <tr>\n",
       "      <th>16</th>\n",
       "      <td>37</td>\n",
       "      <td>16</td>\n",
       "    </tr>\n",
       "    <tr>\n",
       "      <th>17</th>\n",
       "      <td>37</td>\n",
       "      <td>16</td>\n",
       "    </tr>\n",
       "    <tr>\n",
       "      <th>18</th>\n",
       "      <td>37</td>\n",
       "      <td>16</td>\n",
       "    </tr>\n",
       "    <tr>\n",
       "      <th>19</th>\n",
       "      <td>37</td>\n",
       "      <td>16</td>\n",
       "    </tr>\n",
       "  </tbody>\n",
       "</table>\n",
       "</div>"
      ],
      "text/plain": [
       "    scale  auto\n",
       "1      13    13\n",
       "2      22    16\n",
       "3      25    16\n",
       "4      28    16\n",
       "5      32    16\n",
       "6      36    16\n",
       "7      35    16\n",
       "8      36    16\n",
       "9      37    16\n",
       "10     37    16\n",
       "11     37    16\n",
       "12     37    16\n",
       "13     37    16\n",
       "14     37    16\n",
       "15     37    16\n",
       "16     37    16\n",
       "17     37    16\n",
       "18     37    16\n",
       "19     37    16"
      ]
     },
     "execution_count": 181,
     "metadata": {},
     "output_type": "execute_result"
    }
   ],
   "source": [
    "right_guess_df = pd.DataFrame(right_guess)\n",
    "right_guess_df.columns = g_vals\n",
    "right_guess_df.index = c_vals\n",
    "right_guess_df"
   ]
  },
  {
   "cell_type": "code",
   "execution_count": 182,
   "metadata": {},
   "outputs": [
    {
     "data": {
      "text/plain": [
       "scale    37\n",
       "auto     16\n",
       "dtype: int32"
      ]
     },
     "execution_count": 182,
     "metadata": {},
     "output_type": "execute_result"
    }
   ],
   "source": [
    "top = right_guess_df.max()\n",
    "top"
   ]
  },
  {
   "cell_type": "markdown",
   "metadata": {},
   "source": [
    "Find the value of C and gamma"
   ]
  },
  {
   "cell_type": "code",
   "execution_count": 183,
   "metadata": {},
   "outputs": [],
   "source": [
    "import seaborn as sns"
   ]
  },
  {
   "cell_type": "code",
   "execution_count": 184,
   "metadata": {},
   "outputs": [
    {
     "data": {
      "image/png": "[encoded data removed]",
      "text/plain": [
       "<Figure size 432x288 with 2 Axes>"
      ]
     },
     "metadata": {
      "needs_background": "light"
     },
     "output_type": "display_data"
    }
   ],
   "source": [
    "ax = sns.heatmap(right_guess_df)"
   ]
  },
  {
   "cell_type": "code",
   "execution_count": 185,
   "metadata": {},
   "outputs": [
    {
     "data": {
      "image/png": "[encoded data removed]",
      "text/plain": [
       "<Figure size 432x288 with 1 Axes>"
      ]
     },
     "metadata": {
      "needs_background": "light"
     },
     "output_type": "display_data"
    }
   ],
   "source": [
    "fig, ax = plt.subplots()\n",
    "ax.plot(c_vals, right_guess_df['scale'].values, label='scale')\n",
    "ax.plot(c_vals, right_guess_df['auto'].values, label='auto')\n",
    "plt.xlabel('C')\n",
    "plt.ylabel('Correct Answer')\n",
    "plt.legend(title='Gamma:')\n",
    "plt.show()"
   ]
  },
  {
   "cell_type": "code",
   "execution_count": 186,
   "metadata": {},
   "outputs": [
    {
     "data": {
      "text/plain": [
       "array([[ 8,  0],\n",
       "       [ 9,  0],\n",
       "       [10,  0],\n",
       "       [11,  0],\n",
       "       [12,  0],\n",
       "       [13,  0],\n",
       "       [14,  0],\n",
       "       [15,  0],\n",
       "       [16,  0],\n",
       "       [17,  0],\n",
       "       [18,  0]], dtype=int64)"
      ]
     },
     "execution_count": 186,
     "metadata": {},
     "output_type": "execute_result"
    }
   ],
   "source": [
    "max = np.argwhere(right_guess == top[\"scale\"])\n",
    "max"
   ]
  },
  {
   "cell_type": "code",
   "execution_count": 187,
   "metadata": {},
   "outputs": [],
   "source": [
    "from sklearn.model_selection import GridSearchCV"
   ]
  },
  {
   "cell_type": "code",
   "execution_count": 188,
   "metadata": {},
   "outputs": [
    {
     "data": {
      "text/plain": [
       "GridSearchCV(estimator=SVC(),\n",
       "             param_grid={'C': [5, 6, 7, 8, 9, 10, 11, 12, 13, 14, 15],\n",
       "                         'gamma': ['scale', 'auto', 0.004, 0.005]})"
      ]
     },
     "execution_count": 188,
     "metadata": {},
     "output_type": "execute_result"
    }
   ],
   "source": [
    "parameters = {'C': [5,6,7,8,9,10,11,12,13,14,15], 'gamma': ['scale','auto', 0.004, 0.005]}\n",
    "clf = svm.SVC()\n",
    "grid_clf = GridSearchCV(clf, parameters)\n",
    "grid_clf.fit(x_train,y_train.values.ravel())"
   ]
  },
  {
   "cell_type": "code",
   "execution_count": 189,
   "metadata": {},
   "outputs": [
    {
     "name": "stdout",
     "output_type": "stream",
     "text": [
      "{'C': 12, 'gamma': 'scale'}\n"
     ]
    }
   ],
   "source": [
    "print(grid_clf.best_params_)"
   ]
  },
  {
   "cell_type": "code",
   "execution_count": 190,
   "metadata": {},
   "outputs": [
    {
     "data": {
      "text/plain": [
       "12"
      ]
     },
     "execution_count": 190,
     "metadata": {},
     "output_type": "execute_result"
    }
   ],
   "source": [
    "grid_clf.best_params_['C']"
   ]
  },
  {
   "cell_type": "code",
   "execution_count": 191,
   "metadata": {},
   "outputs": [
    {
     "data": {
      "text/plain": [
       "'scale'"
      ]
     },
     "execution_count": 191,
     "metadata": {},
     "output_type": "execute_result"
    }
   ],
   "source": [
    "grid_clf.best_params_['gamma']"
   ]
  },
  {
   "cell_type": "markdown",
   "metadata": {},
   "source": [
    "## Testing Phase"
   ]
  },
  {
   "cell_type": "code",
   "execution_count": 192,
   "metadata": {},
   "outputs": [
    {
     "data": {
      "text/plain": [
       "65"
      ]
     },
     "execution_count": 192,
     "metadata": {},
     "output_type": "execute_result"
    }
   ],
   "source": [
    "#find number of images in file\n",
    "list = os.listdir(TEST_FOLDER) # dir is your directory path\n",
    "number_files = len(list)\n",
    "number_files"
   ]
  },
  {
   "cell_type": "markdown",
   "metadata": {},
   "source": [
    "### Discrete Wavelet Transform"
   ]
  },
  {
   "cell_type": "code",
   "execution_count": 193,
   "metadata": {},
   "outputs": [],
   "source": [
    "test_dwt= []"
   ]
  },
  {
   "cell_type": "code",
   "execution_count": 194,
   "metadata": {},
   "outputs": [],
   "source": [
    "#Wavelet Compression\n",
    "n=2\n",
    "w = 'haar'\n",
    "\n",
    "#features array for SVM\n",
    "x1 = []\n",
    "\n",
    "for iteration in range(number_files):\n",
    "    i = iteration+1\n",
    "    img = Image.open(f'{TEST_FOLDER}/{str(i)}.jpg')\n",
    "    coeffs = pywt.wavedec2(img, wavelet = w, level = n) \n",
    "    coeff_arr, coeff_slices = pywt.coeffs_to_array(coeffs) #arrange coeffs into single array\n",
    "    \n",
    "    features = coeff_arr[coeff_slices[0]]\n",
    "    plt.imsave(f'{TEST_DWT_WITH_DCT_FOLDER}/{str(i)}.jpg', features)\n",
    "\n",
    "    x1.append(features)    "
   ]
  },
  {
   "cell_type": "markdown",
   "metadata": {},
   "source": [
    "### Discrete Cosine Transform"
   ]
  },
  {
   "cell_type": "code",
   "execution_count": 195,
   "metadata": {},
   "outputs": [],
   "source": [
    "test_dct_coeffs =[]"
   ]
  },
  {
   "cell_type": "code",
   "execution_count": 196,
   "metadata": {},
   "outputs": [],
   "source": [
    "for i in range(number_files):\n",
    "    img = imread(f'{TEST_DWT_WITH_DCT_FOLDER}/{str(i+1)}.jpg')\n",
    "    grayimg = cv2.cvtColor(img, cv2.COLOR_BGR2GRAY)\n",
    "    equ = cv2.equalizeHist(grayimg)\n",
    "    coeff = dctn(equ , norm ='ortho')\n",
    "    test_dct_coeffs.append(coeff)"
   ]
  },
  {
   "cell_type": "code",
   "execution_count": 197,
   "metadata": {},
   "outputs": [
    {
     "data": {
      "text/plain": [
       "638"
      ]
     },
     "execution_count": 197,
     "metadata": {},
     "output_type": "execute_result"
    }
   ],
   "source": [
    "coeffs_min = len(test_dct_coeffs[0])*len(test_dct_coeffs[0][0])\n",
    "ind_coeffs_min = 0\n",
    "for i in range(len(test_dct_coeffs)):\n",
    "    if(len(test_dct_coeffs[i])*len(test_dct_coeffs[i][0])<coeffs_min):\n",
    "        coeffs_min = len(test_dct_coeffs[i])*len(test_dct_coeffs[i][0])\n",
    "        ind_coeffs_min = i\n",
    "coeffs_min"
   ]
  },
  {
   "cell_type": "code",
   "execution_count": 198,
   "metadata": {},
   "outputs": [],
   "source": [
    "test_new_coeffs = []\n",
    "for i in range(number_files):\n",
    "    whole = []\n",
    "    for j in range(20):\n",
    "        row = []\n",
    "        for k in range(20):\n",
    "            row.append(test_dct_coeffs[i][j][k])\n",
    "        whole.append(row)\n",
    "    test_new_coeffs.append(whole)"
   ]
  },
  {
   "cell_type": "code",
   "execution_count": 199,
   "metadata": {},
   "outputs": [],
   "source": [
    "test_flat_coeff = []\n",
    "for n in range(number_files):\n",
    "    height = len(test_new_coeffs[n])\n",
    "    width = len(test_new_coeffs[n][0])\n",
    "    row = []\n",
    "    for k in range(width+height-1):\n",
    "        for j in range(k+1):\n",
    "            i = k-j\n",
    "            if i<height and j<width:\n",
    "                if len(row) < coeffs_picked:\n",
    "                    row.append(test_new_coeffs[n][i][j])\n",
    "    test_flat_coeff.append(row)"
   ]
  },
  {
   "cell_type": "code",
   "execution_count": 200,
   "metadata": {},
   "outputs": [],
   "source": [
    "test_new_coeffs_pd = pd.DataFrame(test_flat_coeff)\n",
    "test_new_coeffs_pd.to_csv('test_dct_coeffs_flat_try2.csv')"
   ]
  },
  {
   "cell_type": "code",
   "execution_count": 201,
   "metadata": {},
   "outputs": [],
   "source": [
    "test_norm_dct_coeffs = []\n",
    "for i in range(number_files):\n",
    "    min_data = test_new_coeffs_pd.iloc[i].min()\n",
    "    max_data = test_new_coeffs_pd.iloc[i].max()\n",
    "    row = []\n",
    "    for j in range(400):\n",
    "        temp = (test_new_coeffs_pd.iloc[i][j]-min_data)/(max_data-min_data)*100\n",
    "        row.append(temp)\n",
    "    test_norm_dct_coeffs.append(row)"
   ]
  },
  {
   "cell_type": "markdown",
   "metadata": {},
   "source": [
    "### SVM"
   ]
  },
  {
   "cell_type": "markdown",
   "metadata": {},
   "source": [
    "Test data"
   ]
  },
  {
   "cell_type": "code",
   "execution_count": 202,
   "metadata": {},
   "outputs": [],
   "source": [
    "x_test = pd.DataFrame(test_norm_dct_coeffs)\n",
    "y_test = pd.read_csv(TEST_CSV, header=None)"
   ]
  },
  {
   "cell_type": "code",
   "execution_count": 203,
   "metadata": {},
   "outputs": [
    {
     "data": {
      "text/html": [
       "<div>\n",
       "<style scoped>\n",
       "    .dataframe tbody tr th:only-of-type {\n",
       "        vertical-align: middle;\n",
       "    }\n",
       "\n",
       "    .dataframe tbody tr th {\n",
       "        vertical-align: top;\n",
       "    }\n",
       "\n",
       "    .dataframe thead th {\n",
       "        text-align: right;\n",
       "    }\n",
       "</style>\n",
       "<table border=\"1\" class=\"dataframe\">\n",
       "  <thead>\n",
       "    <tr style=\"text-align: right;\">\n",
       "      <th></th>\n",
       "      <th>0</th>\n",
       "      <th>1</th>\n",
       "      <th>2</th>\n",
       "      <th>3</th>\n",
       "      <th>4</th>\n",
       "      <th>5</th>\n",
       "      <th>6</th>\n",
       "      <th>7</th>\n",
       "      <th>8</th>\n",
       "      <th>9</th>\n",
       "      <th>...</th>\n",
       "      <th>390</th>\n",
       "      <th>391</th>\n",
       "      <th>392</th>\n",
       "      <th>393</th>\n",
       "      <th>394</th>\n",
       "      <th>395</th>\n",
       "      <th>396</th>\n",
       "      <th>397</th>\n",
       "      <th>398</th>\n",
       "      <th>399</th>\n",
       "    </tr>\n",
       "  </thead>\n",
       "  <tbody>\n",
       "    <tr>\n",
       "      <th>0</th>\n",
       "      <td>100.0</td>\n",
       "      <td>22.793104</td>\n",
       "      <td>26.617562</td>\n",
       "      <td>0.000000</td>\n",
       "      <td>44.914307</td>\n",
       "      <td>25.413038</td>\n",
       "      <td>21.130464</td>\n",
       "      <td>28.842819</td>\n",
       "      <td>33.509923</td>\n",
       "      <td>19.025787</td>\n",
       "      <td>...</td>\n",
       "      <td>26.881356</td>\n",
       "      <td>26.382355</td>\n",
       "      <td>26.703641</td>\n",
       "      <td>26.776264</td>\n",
       "      <td>26.740786</td>\n",
       "      <td>26.550856</td>\n",
       "      <td>26.384618</td>\n",
       "      <td>26.809822</td>\n",
       "      <td>26.738781</td>\n",
       "      <td>26.690088</td>\n",
       "    </tr>\n",
       "    <tr>\n",
       "      <th>1</th>\n",
       "      <td>100.0</td>\n",
       "      <td>6.707161</td>\n",
       "      <td>6.878122</td>\n",
       "      <td>0.000000</td>\n",
       "      <td>14.341054</td>\n",
       "      <td>13.959826</td>\n",
       "      <td>18.788454</td>\n",
       "      <td>20.555451</td>\n",
       "      <td>11.077741</td>\n",
       "      <td>18.199330</td>\n",
       "      <td>...</td>\n",
       "      <td>17.659603</td>\n",
       "      <td>15.051207</td>\n",
       "      <td>17.278529</td>\n",
       "      <td>16.654143</td>\n",
       "      <td>16.895929</td>\n",
       "      <td>17.549980</td>\n",
       "      <td>16.778791</td>\n",
       "      <td>17.077068</td>\n",
       "      <td>17.264003</td>\n",
       "      <td>16.545601</td>\n",
       "    </tr>\n",
       "    <tr>\n",
       "      <th>2</th>\n",
       "      <td>100.0</td>\n",
       "      <td>10.742451</td>\n",
       "      <td>0.000000</td>\n",
       "      <td>0.273522</td>\n",
       "      <td>6.769013</td>\n",
       "      <td>19.558107</td>\n",
       "      <td>22.787604</td>\n",
       "      <td>15.669305</td>\n",
       "      <td>4.064077</td>\n",
       "      <td>21.158162</td>\n",
       "      <td>...</td>\n",
       "      <td>16.894048</td>\n",
       "      <td>16.229359</td>\n",
       "      <td>15.612532</td>\n",
       "      <td>16.537767</td>\n",
       "      <td>15.952927</td>\n",
       "      <td>16.355578</td>\n",
       "      <td>17.064708</td>\n",
       "      <td>16.843948</td>\n",
       "      <td>16.517870</td>\n",
       "      <td>15.794924</td>\n",
       "    </tr>\n",
       "    <tr>\n",
       "      <th>3</th>\n",
       "      <td>100.0</td>\n",
       "      <td>23.299964</td>\n",
       "      <td>43.542047</td>\n",
       "      <td>0.000000</td>\n",
       "      <td>16.964979</td>\n",
       "      <td>18.743874</td>\n",
       "      <td>14.476177</td>\n",
       "      <td>19.872355</td>\n",
       "      <td>11.310464</td>\n",
       "      <td>20.621847</td>\n",
       "      <td>...</td>\n",
       "      <td>15.513484</td>\n",
       "      <td>15.621557</td>\n",
       "      <td>15.787059</td>\n",
       "      <td>15.683763</td>\n",
       "      <td>15.498843</td>\n",
       "      <td>15.807592</td>\n",
       "      <td>15.835201</td>\n",
       "      <td>15.711174</td>\n",
       "      <td>15.657403</td>\n",
       "      <td>15.961867</td>\n",
       "    </tr>\n",
       "    <tr>\n",
       "      <th>4</th>\n",
       "      <td>100.0</td>\n",
       "      <td>16.160736</td>\n",
       "      <td>32.525167</td>\n",
       "      <td>0.000000</td>\n",
       "      <td>20.975016</td>\n",
       "      <td>24.122445</td>\n",
       "      <td>22.522451</td>\n",
       "      <td>28.327499</td>\n",
       "      <td>17.633114</td>\n",
       "      <td>27.923415</td>\n",
       "      <td>...</td>\n",
       "      <td>20.397345</td>\n",
       "      <td>19.739272</td>\n",
       "      <td>19.493231</td>\n",
       "      <td>19.488287</td>\n",
       "      <td>20.000997</td>\n",
       "      <td>19.897170</td>\n",
       "      <td>19.671768</td>\n",
       "      <td>19.828769</td>\n",
       "      <td>19.916128</td>\n",
       "      <td>19.994600</td>\n",
       "    </tr>\n",
       "    <tr>\n",
       "      <th>...</th>\n",
       "      <td>...</td>\n",
       "      <td>...</td>\n",
       "      <td>...</td>\n",
       "      <td>...</td>\n",
       "      <td>...</td>\n",
       "      <td>...</td>\n",
       "      <td>...</td>\n",
       "      <td>...</td>\n",
       "      <td>...</td>\n",
       "      <td>...</td>\n",
       "      <td>...</td>\n",
       "      <td>...</td>\n",
       "      <td>...</td>\n",
       "      <td>...</td>\n",
       "      <td>...</td>\n",
       "      <td>...</td>\n",
       "      <td>...</td>\n",
       "      <td>...</td>\n",
       "      <td>...</td>\n",
       "      <td>...</td>\n",
       "      <td>...</td>\n",
       "    </tr>\n",
       "    <tr>\n",
       "      <th>60</th>\n",
       "      <td>100.0</td>\n",
       "      <td>33.970085</td>\n",
       "      <td>30.939877</td>\n",
       "      <td>10.155103</td>\n",
       "      <td>23.131745</td>\n",
       "      <td>0.000000</td>\n",
       "      <td>27.786981</td>\n",
       "      <td>23.608250</td>\n",
       "      <td>28.998549</td>\n",
       "      <td>25.763596</td>\n",
       "      <td>...</td>\n",
       "      <td>24.752872</td>\n",
       "      <td>25.465232</td>\n",
       "      <td>24.866144</td>\n",
       "      <td>25.221992</td>\n",
       "      <td>25.245513</td>\n",
       "      <td>25.179234</td>\n",
       "      <td>25.566986</td>\n",
       "      <td>25.440189</td>\n",
       "      <td>25.455756</td>\n",
       "      <td>25.392937</td>\n",
       "    </tr>\n",
       "    <tr>\n",
       "      <th>61</th>\n",
       "      <td>100.0</td>\n",
       "      <td>6.215584</td>\n",
       "      <td>18.123175</td>\n",
       "      <td>6.632226</td>\n",
       "      <td>3.566525</td>\n",
       "      <td>4.375256</td>\n",
       "      <td>23.883967</td>\n",
       "      <td>2.668843</td>\n",
       "      <td>15.768198</td>\n",
       "      <td>6.357460</td>\n",
       "      <td>...</td>\n",
       "      <td>10.351894</td>\n",
       "      <td>10.873635</td>\n",
       "      <td>10.255548</td>\n",
       "      <td>10.984270</td>\n",
       "      <td>10.663042</td>\n",
       "      <td>10.469990</td>\n",
       "      <td>10.662641</td>\n",
       "      <td>11.228864</td>\n",
       "      <td>10.654223</td>\n",
       "      <td>10.541369</td>\n",
       "    </tr>\n",
       "    <tr>\n",
       "      <th>62</th>\n",
       "      <td>100.0</td>\n",
       "      <td>16.373282</td>\n",
       "      <td>20.101491</td>\n",
       "      <td>3.438291</td>\n",
       "      <td>17.240117</td>\n",
       "      <td>26.589430</td>\n",
       "      <td>12.806009</td>\n",
       "      <td>17.617578</td>\n",
       "      <td>0.000000</td>\n",
       "      <td>11.490358</td>\n",
       "      <td>...</td>\n",
       "      <td>17.595399</td>\n",
       "      <td>16.886954</td>\n",
       "      <td>15.889900</td>\n",
       "      <td>16.615916</td>\n",
       "      <td>16.622044</td>\n",
       "      <td>16.192001</td>\n",
       "      <td>16.589548</td>\n",
       "      <td>16.496079</td>\n",
       "      <td>17.071150</td>\n",
       "      <td>16.889284</td>\n",
       "    </tr>\n",
       "    <tr>\n",
       "      <th>63</th>\n",
       "      <td>100.0</td>\n",
       "      <td>30.705510</td>\n",
       "      <td>21.379170</td>\n",
       "      <td>0.000000</td>\n",
       "      <td>37.208099</td>\n",
       "      <td>16.138414</td>\n",
       "      <td>23.937470</td>\n",
       "      <td>28.600827</td>\n",
       "      <td>35.788271</td>\n",
       "      <td>24.597474</td>\n",
       "      <td>...</td>\n",
       "      <td>27.298662</td>\n",
       "      <td>27.069132</td>\n",
       "      <td>27.065759</td>\n",
       "      <td>27.293998</td>\n",
       "      <td>27.334072</td>\n",
       "      <td>27.711603</td>\n",
       "      <td>27.326704</td>\n",
       "      <td>27.302536</td>\n",
       "      <td>27.489717</td>\n",
       "      <td>27.194685</td>\n",
       "    </tr>\n",
       "    <tr>\n",
       "      <th>64</th>\n",
       "      <td>100.0</td>\n",
       "      <td>29.551723</td>\n",
       "      <td>11.288621</td>\n",
       "      <td>0.000000</td>\n",
       "      <td>15.274046</td>\n",
       "      <td>2.048693</td>\n",
       "      <td>30.883703</td>\n",
       "      <td>14.021273</td>\n",
       "      <td>10.726934</td>\n",
       "      <td>11.037462</td>\n",
       "      <td>...</td>\n",
       "      <td>14.094107</td>\n",
       "      <td>13.917136</td>\n",
       "      <td>14.204622</td>\n",
       "      <td>14.421077</td>\n",
       "      <td>14.636729</td>\n",
       "      <td>13.732366</td>\n",
       "      <td>14.266623</td>\n",
       "      <td>13.896803</td>\n",
       "      <td>14.456836</td>\n",
       "      <td>14.363531</td>\n",
       "    </tr>\n",
       "  </tbody>\n",
       "</table>\n",
       "<p>65 rows × 400 columns</p>\n",
       "</div>"
      ],
      "text/plain": [
       "      0          1          2          3          4          5          6    \\\n",
       "0   100.0  22.793104  26.617562   0.000000  44.914307  25.413038  21.130464   \n",
       "1   100.0   6.707161   6.878122   0.000000  14.341054  13.959826  18.788454   \n",
       "2   100.0  10.742451   0.000000   0.273522   6.769013  19.558107  22.787604   \n",
       "3   100.0  23.299964  43.542047   0.000000  16.964979  18.743874  14.476177   \n",
       "4   100.0  16.160736  32.525167   0.000000  20.975016  24.122445  22.522451   \n",
       "..    ...        ...        ...        ...        ...        ...        ...   \n",
       "60  100.0  33.970085  30.939877  10.155103  23.131745   0.000000  27.786981   \n",
       "61  100.0   6.215584  18.123175   6.632226   3.566525   4.375256  23.883967   \n",
       "62  100.0  16.373282  20.101491   3.438291  17.240117  26.589430  12.806009   \n",
       "63  100.0  30.705510  21.379170   0.000000  37.208099  16.138414  23.937470   \n",
       "64  100.0  29.551723  11.288621   0.000000  15.274046   2.048693  30.883703   \n",
       "\n",
       "          7          8          9    ...        390        391        392  \\\n",
       "0   28.842819  33.509923  19.025787  ...  26.881356  26.382355  26.703641   \n",
       "1   20.555451  11.077741  18.199330  ...  17.659603  15.051207  17.278529   \n",
       "2   15.669305   4.064077  21.158162  ...  16.894048  16.229359  15.612532   \n",
       "3   19.872355  11.310464  20.621847  ...  15.513484  15.621557  15.787059   \n",
       "4   28.327499  17.633114  27.923415  ...  20.397345  19.739272  19.493231   \n",
       "..        ...        ...        ...  ...        ...        ...        ...   \n",
       "60  23.608250  28.998549  25.763596  ...  24.752872  25.465232  24.866144   \n",
       "61   2.668843  15.768198   6.357460  ...  10.351894  10.873635  10.255548   \n",
       "62  17.617578   0.000000  11.490358  ...  17.595399  16.886954  15.889900   \n",
       "63  28.600827  35.788271  24.597474  ...  27.298662  27.069132  27.065759   \n",
       "64  14.021273  10.726934  11.037462  ...  14.094107  13.917136  14.204622   \n",
       "\n",
       "          393        394        395        396        397        398  \\\n",
       "0   26.776264  26.740786  26.550856  26.384618  26.809822  26.738781   \n",
       "1   16.654143  16.895929  17.549980  16.778791  17.077068  17.264003   \n",
       "2   16.537767  15.952927  16.355578  17.064708  16.843948  16.517870   \n",
       "3   15.683763  15.498843  15.807592  15.835201  15.711174  15.657403   \n",
       "4   19.488287  20.000997  19.897170  19.671768  19.828769  19.916128   \n",
       "..        ...        ...        ...        ...        ...        ...   \n",
       "60  25.221992  25.245513  25.179234  25.566986  25.440189  25.455756   \n",
       "61  10.984270  10.663042  10.469990  10.662641  11.228864  10.654223   \n",
       "62  16.615916  16.622044  16.192001  16.589548  16.496079  17.071150   \n",
       "63  27.293998  27.334072  27.711603  27.326704  27.302536  27.489717   \n",
       "64  14.421077  14.636729  13.732366  14.266623  13.896803  14.456836   \n",
       "\n",
       "          399  \n",
       "0   26.690088  \n",
       "1   16.545601  \n",
       "2   15.794924  \n",
       "3   15.961867  \n",
       "4   19.994600  \n",
       "..        ...  \n",
       "60  25.392937  \n",
       "61  10.541369  \n",
       "62  16.889284  \n",
       "63  27.194685  \n",
       "64  14.363531  \n",
       "\n",
       "[65 rows x 400 columns]"
      ]
     },
     "execution_count": 203,
     "metadata": {},
     "output_type": "execute_result"
    }
   ],
   "source": [
    "x_test"
   ]
  },
  {
   "cell_type": "code",
   "execution_count": 204,
   "metadata": {},
   "outputs": [
    {
     "data": {
      "text/html": [
       "<div>\n",
       "<style scoped>\n",
       "    .dataframe tbody tr th:only-of-type {\n",
       "        vertical-align: middle;\n",
       "    }\n",
       "\n",
       "    .dataframe tbody tr th {\n",
       "        vertical-align: top;\n",
       "    }\n",
       "\n",
       "    .dataframe thead th {\n",
       "        text-align: right;\n",
       "    }\n",
       "</style>\n",
       "<table border=\"1\" class=\"dataframe\">\n",
       "  <thead>\n",
       "    <tr style=\"text-align: right;\">\n",
       "      <th></th>\n",
       "      <th>0</th>\n",
       "      <th>1</th>\n",
       "      <th>2</th>\n",
       "      <th>3</th>\n",
       "      <th>4</th>\n",
       "      <th>5</th>\n",
       "      <th>6</th>\n",
       "      <th>7</th>\n",
       "      <th>8</th>\n",
       "      <th>9</th>\n",
       "      <th>...</th>\n",
       "      <th>390</th>\n",
       "      <th>391</th>\n",
       "      <th>392</th>\n",
       "      <th>393</th>\n",
       "      <th>394</th>\n",
       "      <th>395</th>\n",
       "      <th>396</th>\n",
       "      <th>397</th>\n",
       "      <th>398</th>\n",
       "      <th>399</th>\n",
       "    </tr>\n",
       "  </thead>\n",
       "  <tbody>\n",
       "    <tr>\n",
       "      <th>145</th>\n",
       "      <td>100.0</td>\n",
       "      <td>2.839064</td>\n",
       "      <td>8.979910</td>\n",
       "      <td>12.643100</td>\n",
       "      <td>15.506023</td>\n",
       "      <td>35.704360</td>\n",
       "      <td>19.957527</td>\n",
       "      <td>17.044140</td>\n",
       "      <td>0.000000</td>\n",
       "      <td>22.014498</td>\n",
       "      <td>...</td>\n",
       "      <td>17.387598</td>\n",
       "      <td>17.222682</td>\n",
       "      <td>17.695091</td>\n",
       "      <td>17.584225</td>\n",
       "      <td>17.463219</td>\n",
       "      <td>17.285331</td>\n",
       "      <td>17.485193</td>\n",
       "      <td>17.502951</td>\n",
       "      <td>17.564833</td>\n",
       "      <td>17.379054</td>\n",
       "    </tr>\n",
       "    <tr>\n",
       "      <th>146</th>\n",
       "      <td>100.0</td>\n",
       "      <td>11.751943</td>\n",
       "      <td>13.061464</td>\n",
       "      <td>17.900955</td>\n",
       "      <td>22.297651</td>\n",
       "      <td>29.283865</td>\n",
       "      <td>21.314352</td>\n",
       "      <td>21.310521</td>\n",
       "      <td>0.000000</td>\n",
       "      <td>25.362510</td>\n",
       "      <td>...</td>\n",
       "      <td>23.022680</td>\n",
       "      <td>22.592852</td>\n",
       "      <td>21.957262</td>\n",
       "      <td>22.931154</td>\n",
       "      <td>22.545408</td>\n",
       "      <td>22.269593</td>\n",
       "      <td>22.496014</td>\n",
       "      <td>22.937312</td>\n",
       "      <td>22.325821</td>\n",
       "      <td>22.722616</td>\n",
       "    </tr>\n",
       "    <tr>\n",
       "      <th>147</th>\n",
       "      <td>100.0</td>\n",
       "      <td>15.111891</td>\n",
       "      <td>14.889093</td>\n",
       "      <td>18.399707</td>\n",
       "      <td>20.241301</td>\n",
       "      <td>30.757284</td>\n",
       "      <td>23.820302</td>\n",
       "      <td>24.584748</td>\n",
       "      <td>0.000000</td>\n",
       "      <td>28.402376</td>\n",
       "      <td>...</td>\n",
       "      <td>22.245943</td>\n",
       "      <td>22.941030</td>\n",
       "      <td>22.814203</td>\n",
       "      <td>22.747786</td>\n",
       "      <td>22.910838</td>\n",
       "      <td>23.183619</td>\n",
       "      <td>22.630381</td>\n",
       "      <td>22.692750</td>\n",
       "      <td>22.364468</td>\n",
       "      <td>22.546833</td>\n",
       "    </tr>\n",
       "    <tr>\n",
       "      <th>148</th>\n",
       "      <td>100.0</td>\n",
       "      <td>20.344372</td>\n",
       "      <td>0.000000</td>\n",
       "      <td>8.711360</td>\n",
       "      <td>22.451695</td>\n",
       "      <td>11.825578</td>\n",
       "      <td>18.743440</td>\n",
       "      <td>13.924532</td>\n",
       "      <td>5.066867</td>\n",
       "      <td>11.923232</td>\n",
       "      <td>...</td>\n",
       "      <td>18.423142</td>\n",
       "      <td>18.496963</td>\n",
       "      <td>18.424471</td>\n",
       "      <td>18.559203</td>\n",
       "      <td>18.485883</td>\n",
       "      <td>18.472006</td>\n",
       "      <td>18.725190</td>\n",
       "      <td>18.961124</td>\n",
       "      <td>18.720676</td>\n",
       "      <td>18.452116</td>\n",
       "    </tr>\n",
       "    <tr>\n",
       "      <th>149</th>\n",
       "      <td>100.0</td>\n",
       "      <td>15.251680</td>\n",
       "      <td>0.000000</td>\n",
       "      <td>15.131060</td>\n",
       "      <td>18.943494</td>\n",
       "      <td>17.095919</td>\n",
       "      <td>19.684693</td>\n",
       "      <td>19.082323</td>\n",
       "      <td>5.971842</td>\n",
       "      <td>15.212285</td>\n",
       "      <td>...</td>\n",
       "      <td>21.165048</td>\n",
       "      <td>21.100055</td>\n",
       "      <td>21.748302</td>\n",
       "      <td>21.087612</td>\n",
       "      <td>21.407718</td>\n",
       "      <td>21.314287</td>\n",
       "      <td>21.211893</td>\n",
       "      <td>21.533417</td>\n",
       "      <td>21.225162</td>\n",
       "      <td>21.249886</td>\n",
       "    </tr>\n",
       "    <tr>\n",
       "      <th>150</th>\n",
       "      <td>100.0</td>\n",
       "      <td>6.933120</td>\n",
       "      <td>0.000000</td>\n",
       "      <td>12.980984</td>\n",
       "      <td>12.721628</td>\n",
       "      <td>28.758131</td>\n",
       "      <td>21.920505</td>\n",
       "      <td>18.332010</td>\n",
       "      <td>3.502881</td>\n",
       "      <td>16.167711</td>\n",
       "      <td>...</td>\n",
       "      <td>19.722791</td>\n",
       "      <td>19.989147</td>\n",
       "      <td>19.904531</td>\n",
       "      <td>20.019066</td>\n",
       "      <td>19.548472</td>\n",
       "      <td>20.213802</td>\n",
       "      <td>19.936891</td>\n",
       "      <td>20.276375</td>\n",
       "      <td>20.101541</td>\n",
       "      <td>19.734305</td>\n",
       "    </tr>\n",
       "    <tr>\n",
       "      <th>151</th>\n",
       "      <td>100.0</td>\n",
       "      <td>14.778796</td>\n",
       "      <td>0.000000</td>\n",
       "      <td>16.977451</td>\n",
       "      <td>17.463510</td>\n",
       "      <td>25.618408</td>\n",
       "      <td>16.108735</td>\n",
       "      <td>19.915168</td>\n",
       "      <td>10.728131</td>\n",
       "      <td>18.139988</td>\n",
       "      <td>...</td>\n",
       "      <td>22.819600</td>\n",
       "      <td>23.327050</td>\n",
       "      <td>22.975138</td>\n",
       "      <td>22.801114</td>\n",
       "      <td>23.664880</td>\n",
       "      <td>23.597910</td>\n",
       "      <td>23.467154</td>\n",
       "      <td>22.921206</td>\n",
       "      <td>22.937624</td>\n",
       "      <td>22.941531</td>\n",
       "    </tr>\n",
       "    <tr>\n",
       "      <th>152</th>\n",
       "      <td>100.0</td>\n",
       "      <td>8.131917</td>\n",
       "      <td>12.094150</td>\n",
       "      <td>3.427229</td>\n",
       "      <td>7.038267</td>\n",
       "      <td>13.114423</td>\n",
       "      <td>14.427390</td>\n",
       "      <td>17.285429</td>\n",
       "      <td>0.000000</td>\n",
       "      <td>27.163322</td>\n",
       "      <td>...</td>\n",
       "      <td>12.824640</td>\n",
       "      <td>13.243045</td>\n",
       "      <td>12.918025</td>\n",
       "      <td>13.619008</td>\n",
       "      <td>13.057508</td>\n",
       "      <td>13.155893</td>\n",
       "      <td>13.222655</td>\n",
       "      <td>13.261825</td>\n",
       "      <td>13.168120</td>\n",
       "      <td>13.337837</td>\n",
       "    </tr>\n",
       "    <tr>\n",
       "      <th>153</th>\n",
       "      <td>100.0</td>\n",
       "      <td>14.584594</td>\n",
       "      <td>7.502047</td>\n",
       "      <td>8.699067</td>\n",
       "      <td>14.672491</td>\n",
       "      <td>3.889807</td>\n",
       "      <td>17.826012</td>\n",
       "      <td>18.226093</td>\n",
       "      <td>2.409557</td>\n",
       "      <td>20.625375</td>\n",
       "      <td>...</td>\n",
       "      <td>15.469625</td>\n",
       "      <td>15.587977</td>\n",
       "      <td>16.035808</td>\n",
       "      <td>15.460102</td>\n",
       "      <td>15.536041</td>\n",
       "      <td>15.593702</td>\n",
       "      <td>15.398385</td>\n",
       "      <td>15.507408</td>\n",
       "      <td>15.609303</td>\n",
       "      <td>15.433767</td>\n",
       "    </tr>\n",
       "    <tr>\n",
       "      <th>154</th>\n",
       "      <td>100.0</td>\n",
       "      <td>16.477177</td>\n",
       "      <td>18.384610</td>\n",
       "      <td>8.804688</td>\n",
       "      <td>13.009624</td>\n",
       "      <td>18.436133</td>\n",
       "      <td>21.456375</td>\n",
       "      <td>19.394393</td>\n",
       "      <td>0.000000</td>\n",
       "      <td>31.757138</td>\n",
       "      <td>...</td>\n",
       "      <td>17.162814</td>\n",
       "      <td>17.949699</td>\n",
       "      <td>17.508036</td>\n",
       "      <td>17.731855</td>\n",
       "      <td>17.743161</td>\n",
       "      <td>17.495631</td>\n",
       "      <td>17.396430</td>\n",
       "      <td>17.881276</td>\n",
       "      <td>17.629853</td>\n",
       "      <td>17.782835</td>\n",
       "    </tr>\n",
       "  </tbody>\n",
       "</table>\n",
       "<p>10 rows × 400 columns</p>\n",
       "</div>"
      ],
      "text/plain": [
       "       0          1          2          3          4          5          6    \\\n",
       "145  100.0   2.839064   8.979910  12.643100  15.506023  35.704360  19.957527   \n",
       "146  100.0  11.751943  13.061464  17.900955  22.297651  29.283865  21.314352   \n",
       "147  100.0  15.111891  14.889093  18.399707  20.241301  30.757284  23.820302   \n",
       "148  100.0  20.344372   0.000000   8.711360  22.451695  11.825578  18.743440   \n",
       "149  100.0  15.251680   0.000000  15.131060  18.943494  17.095919  19.684693   \n",
       "150  100.0   6.933120   0.000000  12.980984  12.721628  28.758131  21.920505   \n",
       "151  100.0  14.778796   0.000000  16.977451  17.463510  25.618408  16.108735   \n",
       "152  100.0   8.131917  12.094150   3.427229   7.038267  13.114423  14.427390   \n",
       "153  100.0  14.584594   7.502047   8.699067  14.672491   3.889807  17.826012   \n",
       "154  100.0  16.477177  18.384610   8.804688  13.009624  18.436133  21.456375   \n",
       "\n",
       "           7          8          9    ...        390        391        392  \\\n",
       "145  17.044140   0.000000  22.014498  ...  17.387598  17.222682  17.695091   \n",
       "146  21.310521   0.000000  25.362510  ...  23.022680  22.592852  21.957262   \n",
       "147  24.584748   0.000000  28.402376  ...  22.245943  22.941030  22.814203   \n",
       "148  13.924532   5.066867  11.923232  ...  18.423142  18.496963  18.424471   \n",
       "149  19.082323   5.971842  15.212285  ...  21.165048  21.100055  21.748302   \n",
       "150  18.332010   3.502881  16.167711  ...  19.722791  19.989147  19.904531   \n",
       "151  19.915168  10.728131  18.139988  ...  22.819600  23.327050  22.975138   \n",
       "152  17.285429   0.000000  27.163322  ...  12.824640  13.243045  12.918025   \n",
       "153  18.226093   2.409557  20.625375  ...  15.469625  15.587977  16.035808   \n",
       "154  19.394393   0.000000  31.757138  ...  17.162814  17.949699  17.508036   \n",
       "\n",
       "           393        394        395        396        397        398  \\\n",
       "145  17.584225  17.463219  17.285331  17.485193  17.502951  17.564833   \n",
       "146  22.931154  22.545408  22.269593  22.496014  22.937312  22.325821   \n",
       "147  22.747786  22.910838  23.183619  22.630381  22.692750  22.364468   \n",
       "148  18.559203  18.485883  18.472006  18.725190  18.961124  18.720676   \n",
       "149  21.087612  21.407718  21.314287  21.211893  21.533417  21.225162   \n",
       "150  20.019066  19.548472  20.213802  19.936891  20.276375  20.101541   \n",
       "151  22.801114  23.664880  23.597910  23.467154  22.921206  22.937624   \n",
       "152  13.619008  13.057508  13.155893  13.222655  13.261825  13.168120   \n",
       "153  15.460102  15.536041  15.593702  15.398385  15.507408  15.609303   \n",
       "154  17.731855  17.743161  17.495631  17.396430  17.881276  17.629853   \n",
       "\n",
       "           399  \n",
       "145  17.379054  \n",
       "146  22.722616  \n",
       "147  22.546833  \n",
       "148  18.452116  \n",
       "149  21.249886  \n",
       "150  19.734305  \n",
       "151  22.941531  \n",
       "152  13.337837  \n",
       "153  15.433767  \n",
       "154  17.782835  \n",
       "\n",
       "[10 rows x 400 columns]"
      ]
     },
     "execution_count": 204,
     "metadata": {},
     "output_type": "execute_result"
    }
   ],
   "source": [
    "x[145:155]"
   ]
  },
  {
   "cell_type": "code",
   "execution_count": 211,
   "metadata": {},
   "outputs": [
    {
     "data": {
      "text/plain": [
       "SVC(C=3)"
      ]
     },
     "execution_count": 211,
     "metadata": {},
     "output_type": "execute_result"
    }
   ],
   "source": [
    "final_classifier = svm.SVC(C =3)\n",
    "final_classifier.fit(x_train,y_train.values.ravel())"
   ]
  },
  {
   "cell_type": "code",
   "execution_count": 212,
   "metadata": {},
   "outputs": [
    {
     "data": {
      "text/plain": [
       "array([11, 14,  6,  2,  3, 11, 14,  6,  7, 16,  2, 10,  7, 16, 10, 12, 11,\n",
       "       10,  2,  6,  8,  6,  3,  2,  5,  1,  7, 11,  3, 18, 13,  7, 10, 11,\n",
       "       11, 11, 11, 11,  7,  6, 10, 11, 13,  7,  6,  3,  6, 11, 11, 11,  3,\n",
       "        2,  6, 11, 16, 11, 16, 11, 11, 11,  8, 17,  3, 11,  7],\n",
       "      dtype=int64)"
      ]
     },
     "execution_count": 212,
     "metadata": {},
     "output_type": "execute_result"
    }
   ],
   "source": [
    "final_result = final_classifier.predict(x_test)\n",
    "final_result"
   ]
  },
  {
   "cell_type": "code",
   "execution_count": 213,
   "metadata": {},
   "outputs": [],
   "source": [
    "final_result_df = pd.DataFrame(final_result)\n",
    "final_result_df.to_csv('dct_final_pred.csv')"
   ]
  },
  {
   "cell_type": "code",
   "execution_count": 214,
   "metadata": {},
   "outputs": [
    {
     "data": {
      "text/plain": [
       "13.846153846153847"
      ]
     },
     "execution_count": 214,
     "metadata": {},
     "output_type": "execute_result"
    }
   ],
   "source": [
    "final_cnt = 0\n",
    "for i in range(len(y_test)):\n",
    "    if(final_result[i]==y_test[0].values[i]):\n",
    "        final_cnt = final_cnt+1\n",
    "final_acc = final_cnt/len(y_test)\n",
    "final_acc*100"
   ]
  },
  {
   "cell_type": "code",
   "execution_count": 209,
   "metadata": {},
   "outputs": [
    {
     "data": {
      "text/plain": [
       "9"
      ]
     },
     "execution_count": 209,
     "metadata": {},
     "output_type": "execute_result"
    }
   ],
   "source": [
    "final_cnt"
   ]
  },
  {
   "cell_type": "code",
   "execution_count": 210,
   "metadata": {},
   "outputs": [],
   "source": [
    "from sklearn.metrics import confusion_matrix\n",
    "from sklearn.metrics import accuracy_score\n",
    "from sklearn.metrics import precision_score"
   ]
  },
  {
   "cell_type": "code",
   "execution_count": 141,
   "metadata": {},
   "outputs": [
    {
     "data": {
      "text/plain": [
       "0.1076923076923077"
      ]
     },
     "execution_count": 141,
     "metadata": {},
     "output_type": "execute_result"
    }
   ],
   "source": [
    "accuracy_score(y_test, final_result)"
   ]
  },
  {
   "cell_type": "code",
   "execution_count": 128,
   "metadata": {},
   "outputs": [
    {
     "name": "stderr",
     "output_type": "stream",
     "text": [
      "C:\\Users\\asus\\anaconda3\\lib\\site-packages\\sklearn\\metrics\\_classification.py:1221: UndefinedMetricWarning: Precision is ill-defined and being set to 0.0 in labels with no predicted samples. Use `zero_division` parameter to control this behavior.\n",
      "  _warn_prf(average, modifier, msg_start, len(result))\n"
     ]
    },
    {
     "data": {
      "text/plain": [
       "array([0.08333333, 0.        , 0.07692308, 0.16666667, 0.08333333,\n",
       "       0.2       , 0.        , 0.        , 0.        , 0.        ,\n",
       "       0.        , 0.        , 0.        , 0.        , 0.        ,\n",
       "       0.        , 0.        , 0.        ])"
      ]
     },
     "execution_count": 128,
     "metadata": {},
     "output_type": "execute_result"
    }
   ],
   "source": [
    "precision_score(y_test, final_result, average=None)"
   ]
  },
  {
   "cell_type": "code",
   "execution_count": 60,
   "metadata": {},
   "outputs": [],
   "source": [
    "final_prediction = pd.DataFrame(final_result)\n",
    "final_prediction.to_csv('out.csv')"
   ]
  }
 ],
 "metadata": {
  "kernelspec": {
   "display_name": "Python 3",
   "language": "python",
   "name": "python3"
  },
  "language_info": {
   "codemirror_mode": {
    "name": "ipython",
    "version": 3
   },
   "file_extension": ".py",
   "mimetype": "text/x-python",
   "name": "python",
   "nbconvert_exporter": "python",
   "pygments_lexer": "ipython3",
   "version": "3.8.3"
  }
 },
 "nbformat": 4,
 "nbformat_minor": 4
}
